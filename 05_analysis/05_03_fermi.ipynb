{
 "cells": [
  {
   "cell_type": "markdown",
   "metadata": {
    "slideshow": {
     "slide_type": "slide"
    }
   },
   "source": [
    "# Data Wrangling, Data Intuition & Wisdom of the Crowds\n",
    "\n",
    "Putting it all together:\n",
    "- pandas\n",
    "- data wrangling\n",
    "- data intuition\n",
    "- wisdom of the crowds\n",
    "- EDA\n",
    "\n",
    "We'll use your responses to the Fermi estimation Google Form to do this."
   ]
  },
  {
   "cell_type": "markdown",
   "metadata": {
    "slideshow": {
     "slide_type": "slide"
    }
   },
   "source": [
    "## Setup"
   ]
  },
  {
   "cell_type": "code",
   "execution_count": 1,
   "metadata": {
    "slideshow": {
     "slide_type": "-"
    }
   },
   "outputs": [],
   "source": [
    "# import working with data libraries\n",
    "import pandas as pd\n",
    "import numpy as np"
   ]
  },
  {
   "cell_type": "markdown",
   "metadata": {
    "slideshow": {
     "slide_type": "slide"
    }
   },
   "source": [
    "## The Data"
   ]
  },
  {
   "cell_type": "code",
   "execution_count": 2,
   "metadata": {
    "slideshow": {
     "slide_type": "-"
    }
   },
   "outputs": [],
   "source": [
    "# read data into Python\n",
    "df = pd.read_csv('data/fermi_wi21.csv')"
   ]
  },
  {
   "cell_type": "code",
   "execution_count": 3,
   "metadata": {
    "scrolled": true,
    "slideshow": {
     "slide_type": "fragment"
    }
   },
   "outputs": [
    {
     "data": {
      "text/html": [
       "<div>\n",
       "<style scoped>\n",
       "    .dataframe tbody tr th:only-of-type {\n",
       "        vertical-align: middle;\n",
       "    }\n",
       "\n",
       "    .dataframe tbody tr th {\n",
       "        vertical-align: top;\n",
       "    }\n",
       "\n",
       "    .dataframe thead th {\n",
       "        text-align: right;\n",
       "    }\n",
       "</style>\n",
       "<table border=\"1\" class=\"dataframe\">\n",
       "  <thead>\n",
       "    <tr style=\"text-align: right;\">\n",
       "      <th></th>\n",
       "      <th>Timestamp</th>\n",
       "      <th>How fast does human hair grow (cm/yr)?</th>\n",
       "      <th>If every living person stood crammed together side-by-side, how large of an area would they occupy (km²)?</th>\n",
       "      <th>How many days would it take to walk from here to New York City (assuming no stopping to fix shoes, apply sunscreen, or for sleeping, eating, or other biological needs)?</th>\n",
       "    </tr>\n",
       "  </thead>\n",
       "  <tbody>\n",
       "    <tr>\n",
       "      <th>0</th>\n",
       "      <td>1/28/21 13:35</td>\n",
       "      <td>10 cm/1 year</td>\n",
       "      <td>10,000</td>\n",
       "      <td>70</td>\n",
       "    </tr>\n",
       "    <tr>\n",
       "      <th>1</th>\n",
       "      <td>1/29/21 9:51</td>\n",
       "      <td>10</td>\n",
       "      <td>100000</td>\n",
       "      <td>100</td>\n",
       "    </tr>\n",
       "    <tr>\n",
       "      <th>2</th>\n",
       "      <td>1/29/21 9:51</td>\n",
       "      <td>10</td>\n",
       "      <td>100000</td>\n",
       "      <td>100</td>\n",
       "    </tr>\n",
       "    <tr>\n",
       "      <th>3</th>\n",
       "      <td>1/29/21 9:51</td>\n",
       "      <td>3</td>\n",
       "      <td>400</td>\n",
       "      <td>10 days</td>\n",
       "    </tr>\n",
       "    <tr>\n",
       "      <th>4</th>\n",
       "      <td>1/29/21 9:51</td>\n",
       "      <td>5</td>\n",
       "      <td>1,000,000,000</td>\n",
       "      <td>30</td>\n",
       "    </tr>\n",
       "    <tr>\n",
       "      <th>...</th>\n",
       "      <td>...</td>\n",
       "      <td>...</td>\n",
       "      <td>...</td>\n",
       "      <td>...</td>\n",
       "    </tr>\n",
       "    <tr>\n",
       "      <th>78</th>\n",
       "      <td>1/31/21 14:43</td>\n",
       "      <td>25</td>\n",
       "      <td>1.2</td>\n",
       "      <td>100</td>\n",
       "    </tr>\n",
       "    <tr>\n",
       "      <th>79</th>\n",
       "      <td>1/31/21 18:54</td>\n",
       "      <td>100</td>\n",
       "      <td>1000</td>\n",
       "      <td>100</td>\n",
       "    </tr>\n",
       "    <tr>\n",
       "      <th>80</th>\n",
       "      <td>1/31/21 19:13</td>\n",
       "      <td>10</td>\n",
       "      <td>1000000</td>\n",
       "      <td>100000</td>\n",
       "    </tr>\n",
       "    <tr>\n",
       "      <th>81</th>\n",
       "      <td>1/31/21 20:41</td>\n",
       "      <td>5</td>\n",
       "      <td>25</td>\n",
       "      <td>4</td>\n",
       "    </tr>\n",
       "    <tr>\n",
       "      <th>82</th>\n",
       "      <td>1/31/21 22:27</td>\n",
       "      <td>23</td>\n",
       "      <td>1260</td>\n",
       "      <td>40</td>\n",
       "    </tr>\n",
       "  </tbody>\n",
       "</table>\n",
       "<p>83 rows × 4 columns</p>\n",
       "</div>"
      ],
      "text/plain": [
       "        Timestamp How fast does human hair grow (cm/yr)?  \\\n",
       "0   1/28/21 13:35                           10 cm/1 year   \n",
       "1    1/29/21 9:51                                     10   \n",
       "2    1/29/21 9:51                                     10   \n",
       "3    1/29/21 9:51                                      3   \n",
       "4    1/29/21 9:51                                      5   \n",
       "..            ...                                    ...   \n",
       "78  1/31/21 14:43                                     25   \n",
       "79  1/31/21 18:54                                    100   \n",
       "80  1/31/21 19:13                                     10   \n",
       "81  1/31/21 20:41                                      5   \n",
       "82  1/31/21 22:27                                     23   \n",
       "\n",
       "   If every living person stood crammed together side-by-side, how large of an area would they occupy (km²)?  \\\n",
       "0                                              10,000                                                          \n",
       "1                                              100000                                                          \n",
       "2                                              100000                                                          \n",
       "3                                                 400                                                          \n",
       "4                                       1,000,000,000                                                          \n",
       "..                                                ...                                                          \n",
       "78                                                1.2                                                          \n",
       "79                                               1000                                                          \n",
       "80                                            1000000                                                          \n",
       "81                                                 25                                                          \n",
       "82                                               1260                                                          \n",
       "\n",
       "   How many days would it take to walk from here to New York City (assuming no stopping to fix shoes, apply sunscreen, or for sleeping, eating, or other biological needs)?  \n",
       "0                                                  70                                                                                                                        \n",
       "1                                                 100                                                                                                                        \n",
       "2                                                 100                                                                                                                        \n",
       "3                                             10 days                                                                                                                        \n",
       "4                                                  30                                                                                                                        \n",
       "..                                                ...                                                                                                                        \n",
       "78                                                100                                                                                                                        \n",
       "79                                                100                                                                                                                        \n",
       "80                                             100000                                                                                                                        \n",
       "81                                                  4                                                                                                                        \n",
       "82                                                 40                                                                                                                        \n",
       "\n",
       "[83 rows x 4 columns]"
      ]
     },
     "execution_count": 3,
     "metadata": {},
     "output_type": "execute_result"
    }
   ],
   "source": [
    "# take a look at the data\n",
    "df"
   ]
  },
  {
   "cell_type": "markdown",
   "metadata": {
    "slideshow": {
     "slide_type": "slide"
    }
   },
   "source": [
    "## Data Cleaning & Wrangling\n",
    "\n",
    "Tidy Data Rules (Review):\n",
    "1. Every observation in a row\n",
    "2. Every variable in a column\n",
    "3. If multiple tables, column on which to merge"
   ]
  },
  {
   "cell_type": "markdown",
   "metadata": {
    "slideshow": {
     "slide_type": "slide"
    }
   },
   "source": [
    "### iClicker Question #1\n",
    "\n",
    "Are these data in the tidy data format?\n",
    "\n",
    "- A) Yes, these data are ready to analyze\n",
    "- B) Yes, but there is more work to do before analysis\n",
    "- C) No, not tidy\n",
    "- D) Have no idea what you're talking about"
   ]
  },
  {
   "cell_type": "markdown",
   "metadata": {
    "slideshow": {
     "slide_type": "slide"
    }
   },
   "source": [
    "## Brainstorming\n",
    "\n",
    "What considerations do we have to make about these data?\n",
    "\n",
    "- handling non-numeric answers (i.e. \"lots\")\n",
    "- handle units in answer\n",
    "- unreasonably large/small number (outliers)? (not thoughtful, or joking)\n",
    "- scientific notation"
   ]
  },
  {
   "cell_type": "code",
   "execution_count": 4,
   "metadata": {
    "scrolled": true,
    "slideshow": {
     "slide_type": "slide"
    }
   },
   "outputs": [
    {
     "data": {
      "text/html": [
       "<div>\n",
       "<style scoped>\n",
       "    .dataframe tbody tr th:only-of-type {\n",
       "        vertical-align: middle;\n",
       "    }\n",
       "\n",
       "    .dataframe tbody tr th {\n",
       "        vertical-align: top;\n",
       "    }\n",
       "\n",
       "    .dataframe thead th {\n",
       "        text-align: right;\n",
       "    }\n",
       "</style>\n",
       "<table border=\"1\" class=\"dataframe\">\n",
       "  <thead>\n",
       "    <tr style=\"text-align: right;\">\n",
       "      <th></th>\n",
       "      <th>timestamp</th>\n",
       "      <th>hair_growth</th>\n",
       "      <th>crammed</th>\n",
       "      <th>SAN_NYC</th>\n",
       "    </tr>\n",
       "  </thead>\n",
       "  <tbody>\n",
       "    <tr>\n",
       "      <th>0</th>\n",
       "      <td>1/28/21 13:35</td>\n",
       "      <td>10 cm/1 year</td>\n",
       "      <td>10,000</td>\n",
       "      <td>70</td>\n",
       "    </tr>\n",
       "    <tr>\n",
       "      <th>1</th>\n",
       "      <td>1/29/21 9:51</td>\n",
       "      <td>10</td>\n",
       "      <td>100000</td>\n",
       "      <td>100</td>\n",
       "    </tr>\n",
       "    <tr>\n",
       "      <th>2</th>\n",
       "      <td>1/29/21 9:51</td>\n",
       "      <td>10</td>\n",
       "      <td>100000</td>\n",
       "      <td>100</td>\n",
       "    </tr>\n",
       "    <tr>\n",
       "      <th>3</th>\n",
       "      <td>1/29/21 9:51</td>\n",
       "      <td>3</td>\n",
       "      <td>400</td>\n",
       "      <td>10 days</td>\n",
       "    </tr>\n",
       "    <tr>\n",
       "      <th>4</th>\n",
       "      <td>1/29/21 9:51</td>\n",
       "      <td>5</td>\n",
       "      <td>1,000,000,000</td>\n",
       "      <td>30</td>\n",
       "    </tr>\n",
       "  </tbody>\n",
       "</table>\n",
       "</div>"
      ],
      "text/plain": [
       "       timestamp   hair_growth        crammed  SAN_NYC\n",
       "0  1/28/21 13:35  10 cm/1 year         10,000       70\n",
       "1   1/29/21 9:51            10         100000      100\n",
       "2   1/29/21 9:51            10         100000      100\n",
       "3   1/29/21 9:51             3            400  10 days\n",
       "4   1/29/21 9:51             5  1,000,000,000       30"
      ]
     },
     "execution_count": 4,
     "metadata": {},
     "output_type": "execute_result"
    }
   ],
   "source": [
    "# change column names\n",
    "df.columns = ['timestamp', 'hair_growth', 'crammed', 'SAN_NYC']\n",
    "df.head()"
   ]
  },
  {
   "cell_type": "code",
   "execution_count": 5,
   "metadata": {
    "scrolled": true,
    "slideshow": {
     "slide_type": "slide"
    }
   },
   "outputs": [
    {
     "data": {
      "text/plain": [
       "timestamp      object\n",
       "hair_growth    object\n",
       "crammed        object\n",
       "SAN_NYC        object\n",
       "dtype: object"
      ]
     },
     "execution_count": 5,
     "metadata": {},
     "output_type": "execute_result"
    }
   ],
   "source": [
    "# check type of each Series (column)\n",
    "df.dtypes"
   ]
  },
  {
   "cell_type": "code",
   "execution_count": 6,
   "metadata": {
    "scrolled": true,
    "slideshow": {
     "slide_type": "slide"
    }
   },
   "outputs": [
    {
     "ename": "TypeError",
     "evalue": "",
     "output_type": "error",
     "traceback": [
      "\u001b[0;31m---------------------------------------------------------------------------\u001b[0m",
      "\u001b[0;31mValueError\u001b[0m                                Traceback (most recent call last)",
      "\u001b[0;32m/anaconda3/envs/cogs18/lib/python3.7/site-packages/pandas/core/nanops.py\u001b[0m in \u001b[0;36mnanmedian\u001b[0;34m(values, axis, skipna, mask)\u001b[0m\n\u001b[1;32m    612\u001b[0m         \u001b[0;32mtry\u001b[0m\u001b[0;34m:\u001b[0m\u001b[0;34m\u001b[0m\u001b[0;34m\u001b[0m\u001b[0m\n\u001b[0;32m--> 613\u001b[0;31m             \u001b[0mvalues\u001b[0m \u001b[0;34m=\u001b[0m \u001b[0mvalues\u001b[0m\u001b[0;34m.\u001b[0m\u001b[0mastype\u001b[0m\u001b[0;34m(\u001b[0m\u001b[0;34m\"f8\"\u001b[0m\u001b[0;34m)\u001b[0m\u001b[0;34m\u001b[0m\u001b[0;34m\u001b[0m\u001b[0m\n\u001b[0m\u001b[1;32m    614\u001b[0m         \u001b[0;32mexcept\u001b[0m \u001b[0mValueError\u001b[0m \u001b[0;32mas\u001b[0m \u001b[0merr\u001b[0m\u001b[0;34m:\u001b[0m\u001b[0;34m\u001b[0m\u001b[0;34m\u001b[0m\u001b[0m\n",
      "\u001b[0;31mValueError\u001b[0m: could not convert string to float: '10 cm/1 year'",
      "\nThe above exception was the direct cause of the following exception:\n",
      "\u001b[0;31mTypeError\u001b[0m                                 Traceback (most recent call last)",
      "\u001b[0;32m<ipython-input-6-b84535065261>\u001b[0m in \u001b[0;36m<module>\u001b[0;34m\u001b[0m\n\u001b[1;32m      1\u001b[0m \u001b[0;31m# this cell will produce an error\u001b[0m\u001b[0;34m\u001b[0m\u001b[0;34m\u001b[0m\u001b[0;34m\u001b[0m\u001b[0m\n\u001b[0;32m----> 2\u001b[0;31m \u001b[0mdf\u001b[0m\u001b[0;34m[\u001b[0m\u001b[0;34m'hair_growth'\u001b[0m\u001b[0;34m]\u001b[0m\u001b[0;34m.\u001b[0m\u001b[0mmedian\u001b[0m\u001b[0;34m(\u001b[0m\u001b[0;34m)\u001b[0m\u001b[0;34m\u001b[0m\u001b[0;34m\u001b[0m\u001b[0m\n\u001b[0m",
      "\u001b[0;32m/anaconda3/envs/cogs18/lib/python3.7/site-packages/pandas/core/generic.py\u001b[0m in \u001b[0;36mstat_func\u001b[0;34m(self, axis, skipna, level, numeric_only, **kwargs)\u001b[0m\n\u001b[1;32m  11458\u001b[0m             \u001b[0;32mreturn\u001b[0m \u001b[0mself\u001b[0m\u001b[0;34m.\u001b[0m\u001b[0m_agg_by_level\u001b[0m\u001b[0;34m(\u001b[0m\u001b[0mname\u001b[0m\u001b[0;34m,\u001b[0m \u001b[0maxis\u001b[0m\u001b[0;34m=\u001b[0m\u001b[0maxis\u001b[0m\u001b[0;34m,\u001b[0m \u001b[0mlevel\u001b[0m\u001b[0;34m=\u001b[0m\u001b[0mlevel\u001b[0m\u001b[0;34m,\u001b[0m \u001b[0mskipna\u001b[0m\u001b[0;34m=\u001b[0m\u001b[0mskipna\u001b[0m\u001b[0;34m)\u001b[0m\u001b[0;34m\u001b[0m\u001b[0;34m\u001b[0m\u001b[0m\n\u001b[1;32m  11459\u001b[0m         return self._reduce(\n\u001b[0;32m> 11460\u001b[0;31m             \u001b[0mfunc\u001b[0m\u001b[0;34m,\u001b[0m \u001b[0mname\u001b[0m\u001b[0;34m=\u001b[0m\u001b[0mname\u001b[0m\u001b[0;34m,\u001b[0m \u001b[0maxis\u001b[0m\u001b[0;34m=\u001b[0m\u001b[0maxis\u001b[0m\u001b[0;34m,\u001b[0m \u001b[0mskipna\u001b[0m\u001b[0;34m=\u001b[0m\u001b[0mskipna\u001b[0m\u001b[0;34m,\u001b[0m \u001b[0mnumeric_only\u001b[0m\u001b[0;34m=\u001b[0m\u001b[0mnumeric_only\u001b[0m\u001b[0;34m\u001b[0m\u001b[0;34m\u001b[0m\u001b[0m\n\u001b[0m\u001b[1;32m  11461\u001b[0m         )\n\u001b[1;32m  11462\u001b[0m \u001b[0;34m\u001b[0m\u001b[0m\n",
      "\u001b[0;32m/anaconda3/envs/cogs18/lib/python3.7/site-packages/pandas/core/series.py\u001b[0m in \u001b[0;36m_reduce\u001b[0;34m(self, op, name, axis, skipna, numeric_only, filter_type, **kwds)\u001b[0m\n\u001b[1;32m   4234\u001b[0m                 )\n\u001b[1;32m   4235\u001b[0m             \u001b[0;32mwith\u001b[0m \u001b[0mnp\u001b[0m\u001b[0;34m.\u001b[0m\u001b[0merrstate\u001b[0m\u001b[0;34m(\u001b[0m\u001b[0mall\u001b[0m\u001b[0;34m=\u001b[0m\u001b[0;34m\"ignore\"\u001b[0m\u001b[0;34m)\u001b[0m\u001b[0;34m:\u001b[0m\u001b[0;34m\u001b[0m\u001b[0;34m\u001b[0m\u001b[0m\n\u001b[0;32m-> 4236\u001b[0;31m                 \u001b[0;32mreturn\u001b[0m \u001b[0mop\u001b[0m\u001b[0;34m(\u001b[0m\u001b[0mdelegate\u001b[0m\u001b[0;34m,\u001b[0m \u001b[0mskipna\u001b[0m\u001b[0;34m=\u001b[0m\u001b[0mskipna\u001b[0m\u001b[0;34m,\u001b[0m \u001b[0;34m**\u001b[0m\u001b[0mkwds\u001b[0m\u001b[0;34m)\u001b[0m\u001b[0;34m\u001b[0m\u001b[0;34m\u001b[0m\u001b[0m\n\u001b[0m\u001b[1;32m   4237\u001b[0m \u001b[0;34m\u001b[0m\u001b[0m\n\u001b[1;32m   4238\u001b[0m     \u001b[0;32mdef\u001b[0m \u001b[0m_reindex_indexer\u001b[0m\u001b[0;34m(\u001b[0m\u001b[0mself\u001b[0m\u001b[0;34m,\u001b[0m \u001b[0mnew_index\u001b[0m\u001b[0;34m,\u001b[0m \u001b[0mindexer\u001b[0m\u001b[0;34m,\u001b[0m \u001b[0mcopy\u001b[0m\u001b[0;34m)\u001b[0m\u001b[0;34m:\u001b[0m\u001b[0;34m\u001b[0m\u001b[0;34m\u001b[0m\u001b[0m\n",
      "\u001b[0;32m/anaconda3/envs/cogs18/lib/python3.7/site-packages/pandas/core/nanops.py\u001b[0m in \u001b[0;36mf\u001b[0;34m(values, axis, skipna, **kwds)\u001b[0m\n\u001b[1;32m    127\u001b[0m                     \u001b[0mresult\u001b[0m \u001b[0;34m=\u001b[0m \u001b[0malt\u001b[0m\u001b[0;34m(\u001b[0m\u001b[0mvalues\u001b[0m\u001b[0;34m,\u001b[0m \u001b[0maxis\u001b[0m\u001b[0;34m=\u001b[0m\u001b[0maxis\u001b[0m\u001b[0;34m,\u001b[0m \u001b[0mskipna\u001b[0m\u001b[0;34m=\u001b[0m\u001b[0mskipna\u001b[0m\u001b[0;34m,\u001b[0m \u001b[0;34m**\u001b[0m\u001b[0mkwds\u001b[0m\u001b[0;34m)\u001b[0m\u001b[0;34m\u001b[0m\u001b[0;34m\u001b[0m\u001b[0m\n\u001b[1;32m    128\u001b[0m             \u001b[0;32melse\u001b[0m\u001b[0;34m:\u001b[0m\u001b[0;34m\u001b[0m\u001b[0;34m\u001b[0m\u001b[0m\n\u001b[0;32m--> 129\u001b[0;31m                 \u001b[0mresult\u001b[0m \u001b[0;34m=\u001b[0m \u001b[0malt\u001b[0m\u001b[0;34m(\u001b[0m\u001b[0mvalues\u001b[0m\u001b[0;34m,\u001b[0m \u001b[0maxis\u001b[0m\u001b[0;34m=\u001b[0m\u001b[0maxis\u001b[0m\u001b[0;34m,\u001b[0m \u001b[0mskipna\u001b[0m\u001b[0;34m=\u001b[0m\u001b[0mskipna\u001b[0m\u001b[0;34m,\u001b[0m \u001b[0;34m**\u001b[0m\u001b[0mkwds\u001b[0m\u001b[0;34m)\u001b[0m\u001b[0;34m\u001b[0m\u001b[0;34m\u001b[0m\u001b[0m\n\u001b[0m\u001b[1;32m    130\u001b[0m \u001b[0;34m\u001b[0m\u001b[0m\n\u001b[1;32m    131\u001b[0m             \u001b[0;32mreturn\u001b[0m \u001b[0mresult\u001b[0m\u001b[0;34m\u001b[0m\u001b[0;34m\u001b[0m\u001b[0m\n",
      "\u001b[0;32m/anaconda3/envs/cogs18/lib/python3.7/site-packages/pandas/core/nanops.py\u001b[0m in \u001b[0;36mnanmedian\u001b[0;34m(values, axis, skipna, mask)\u001b[0m\n\u001b[1;32m    614\u001b[0m         \u001b[0;32mexcept\u001b[0m \u001b[0mValueError\u001b[0m \u001b[0;32mas\u001b[0m \u001b[0merr\u001b[0m\u001b[0;34m:\u001b[0m\u001b[0;34m\u001b[0m\u001b[0;34m\u001b[0m\u001b[0m\n\u001b[1;32m    615\u001b[0m             \u001b[0;31m# e.g. \"could not convert string to float: 'a'\"\u001b[0m\u001b[0;34m\u001b[0m\u001b[0;34m\u001b[0m\u001b[0;34m\u001b[0m\u001b[0m\n\u001b[0;32m--> 616\u001b[0;31m             \u001b[0;32mraise\u001b[0m \u001b[0mTypeError\u001b[0m \u001b[0;32mfrom\u001b[0m \u001b[0merr\u001b[0m\u001b[0;34m\u001b[0m\u001b[0;34m\u001b[0m\u001b[0m\n\u001b[0m\u001b[1;32m    617\u001b[0m         \u001b[0;32mif\u001b[0m \u001b[0mmask\u001b[0m \u001b[0;32mis\u001b[0m \u001b[0;32mnot\u001b[0m \u001b[0;32mNone\u001b[0m\u001b[0;34m:\u001b[0m\u001b[0;34m\u001b[0m\u001b[0;34m\u001b[0m\u001b[0m\n\u001b[1;32m    618\u001b[0m             \u001b[0mvalues\u001b[0m\u001b[0;34m[\u001b[0m\u001b[0mmask\u001b[0m\u001b[0;34m]\u001b[0m \u001b[0;34m=\u001b[0m \u001b[0mnp\u001b[0m\u001b[0;34m.\u001b[0m\u001b[0mnan\u001b[0m\u001b[0;34m\u001b[0m\u001b[0;34m\u001b[0m\u001b[0m\n",
      "\u001b[0;31mTypeError\u001b[0m: "
     ]
    }
   ],
   "source": [
    "# this cell will produce an error\n",
    "df['hair_growth'].median()"
   ]
  },
  {
   "cell_type": "markdown",
   "metadata": {
    "slideshow": {
     "slide_type": "slide"
    }
   },
   "source": [
    "## Cleaning: Hair Growth\n",
    "\n",
    "How fast does human hair grow (cm/yr)?"
   ]
  },
  {
   "cell_type": "markdown",
   "metadata": {
    "slideshow": {
     "slide_type": "slide"
    }
   },
   "source": [
    "### iClicker Question #2\n",
    "\n",
    "Which do you think is closest the actual speed at which hair grows (in cm/yr)?\n",
    "\n",
    "- A) 1\n",
    "- B) 10\n",
    "- C) 100\n",
    "- D) 1000"
   ]
  },
  {
   "cell_type": "code",
   "execution_count": 7,
   "metadata": {
    "slideshow": {
     "slide_type": "fragment"
    }
   },
   "outputs": [
    {
     "data": {
      "text/plain": [
       "array(['10 cm/1 year', '10', '3', '5', '100', '2', '20', '0.5/1',\n",
       "       '8cm/1yr', '15', '60', '30', '12cm per year', '1.25', '20 cm/yr',\n",
       "       '12cm/yr', '21', '100 cm/year ', '10cm/yr', '24', '36',\n",
       "       '12.7 centimeters', '6 inches a year', '12', '110',\n",
       "       \"6 My hair doesn't grow that much in a year\", '8', '2-3cm/yr',\n",
       "       '15.24', '4', '2 cm/yr', '25/1.5', '10^2cm/yr', '7', '1000',\n",
       "       '60 cm/yr', '1.1', '10^2', '25', '23'], dtype=object)"
      ]
     },
     "execution_count": 7,
     "metadata": {},
     "output_type": "execute_result"
    }
   ],
   "source": [
    "# take a look at unique values\n",
    "df[\"hair_growth\"].unique()"
   ]
  },
  {
   "cell_type": "code",
   "execution_count": 8,
   "metadata": {
    "slideshow": {
     "slide_type": "fragment"
    }
   },
   "outputs": [],
   "source": [
    "# standardize height column\n",
    "def standardize_hair(string):\n",
    "    \n",
    "    # Basic string pre-processing\n",
    "    string = string.lower()\n",
    "    string = string.strip()\n",
    "    \n",
    "    # take care of some extra info\n",
    "    string = string.replace(\"my hair doesn't grow that much in a year\", \"\")\n",
    "    string = string.replace(\"25/1.5\", \"16.67\")\n",
    "\n",
    "    # wrong unit used\n",
    "    # 1 in == 2.54 cm\n",
    "    string = string.replace(\"6 inches a year\", \"15.24\")\n",
    "    \n",
    "    # range provided\n",
    "    string = string.replace(\"2-3\", \"2.5\")\n",
    "    \n",
    "\n",
    "    # take care of inclded unit cases        \n",
    "    string = string.replace(\"cm/year\", \"\")\n",
    "    string = string.replace(\"cm/ye\", \"\")\n",
    "    string = string.replace(\"centimeters\", \"\")\n",
    "    string = string.replace(\"cm per year\", \"\")\n",
    "    string = string.replace(\"cm/yr\", \"\")\n",
    "    string = string.replace(\"cm/1yr\", \"\")\n",
    "    string = string.replace(\"cm/1 year\", \"\")\n",
    "    string = string.replace(\"yr\", \"\")\n",
    "    string = string.replace(\"cm\", \"\")    \n",
    "    string = string.replace(\"/\", \"\")\n",
    "\n",
    "    string = string.replace(\"^2\", \"0\")\n",
    "    \n",
    "    string = string.strip()\n",
    "\n",
    "    # convert to numeric\n",
    "    output = float(string)\n",
    "    \n",
    "    return output"
   ]
  },
  {
   "cell_type": "code",
   "execution_count": 9,
   "metadata": {
    "scrolled": false,
    "slideshow": {
     "slide_type": "fragment"
    }
   },
   "outputs": [
    {
     "data": {
      "text/plain": [
       "array([1.000e+01, 3.000e+00, 5.000e+00, 1.000e+02, 2.000e+00, 2.000e+01,\n",
       "       5.100e-01, 8.000e+00, 1.500e+01, 6.000e+01, 3.000e+01, 1.200e+01,\n",
       "       1.250e+00, 2.100e+01, 2.400e+01, 3.600e+01, 1.270e+01, 1.524e+01,\n",
       "       1.100e+02, 6.000e+00, 2.500e+00, 4.000e+00, 1.667e+01, 7.000e+00,\n",
       "       1.000e+03, 1.100e+00, 2.500e+01, 2.300e+01])"
      ]
     },
     "execution_count": 9,
     "metadata": {},
     "output_type": "execute_result"
    }
   ],
   "source": [
    "# apply function across values in hair growth columns\n",
    "df[\"hair_growth\"] = df[\"hair_growth\"].apply(standardize_hair)\n",
    "df[\"hair_growth\"].unique()"
   ]
  },
  {
   "cell_type": "code",
   "execution_count": 10,
   "metadata": {
    "slideshow": {
     "slide_type": "fragment"
    }
   },
   "outputs": [
    {
     "data": {
      "text/plain": [
       "count      83.000000\n",
       "mean       38.641084\n",
       "std       111.355994\n",
       "min         0.510000\n",
       "25%        10.000000\n",
       "50%        12.700000\n",
       "75%        30.000000\n",
       "max      1000.000000\n",
       "Name: hair_growth, dtype: float64"
      ]
     },
     "execution_count": 10,
     "metadata": {},
     "output_type": "execute_result"
    }
   ],
   "source": [
    "df['hair_growth'].describe()"
   ]
  },
  {
   "cell_type": "code",
   "execution_count": 11,
   "metadata": {
    "scrolled": true,
    "slideshow": {
     "slide_type": "fragment"
    }
   },
   "outputs": [
    {
     "data": {
      "text/plain": [
       "12.7"
      ]
     },
     "execution_count": 11,
     "metadata": {},
     "output_type": "execute_result"
    }
   ],
   "source": [
    "# compare to actual value: 15 cm/year (~6 in)\n",
    "df[\"hair_growth\"].median()"
   ]
  },
  {
   "cell_type": "markdown",
   "metadata": {
    "slideshow": {
     "slide_type": "slide"
    }
   },
   "source": [
    "## Cleaning: Crammed\n",
    "\n",
    "If every living person stood crammed together side-by-side, how large of an area would they occupy (km²)?"
   ]
  },
  {
   "cell_type": "markdown",
   "metadata": {
    "slideshow": {
     "slide_type": "slide"
    }
   },
   "source": [
    "### iClicker Question #3\n",
    "\n",
    "Which do you think is closest the actual area every living person would occupy (in km²)?\n",
    "\n",
    "- A) 100\n",
    "- B) 1,000\n",
    "- C) 10,000\n",
    "- D) 100,000"
   ]
  },
  {
   "cell_type": "code",
   "execution_count": null,
   "metadata": {
    "scrolled": false,
    "slideshow": {
     "slide_type": "fragment"
    }
   },
   "outputs": [],
   "source": [
    "df['crammed'].unique()"
   ]
  },
  {
   "cell_type": "code",
   "execution_count": null,
   "metadata": {
    "slideshow": {
     "slide_type": "fragment"
    }
   },
   "outputs": [],
   "source": [
    "# standardize crammed column\n",
    "# code from last quarter - needs to be updated\n",
    "def standardize_crammed(string):\n",
    "    \n",
    "    orig = string\n",
    "    output = None\n",
    "    \n",
    "    # Basic string pre-processing\n",
    "    string = string.lower()\n",
    "    string = string.strip()\n",
    "    \n",
    "    # take care of commas\n",
    "    string = string.replace(\",\", \"\")\n",
    "\n",
    "    # take care of inclded unit cases\n",
    "    string = string.replace(\"(km^2)\", \"\")\n",
    "    string = string.replace(\"km^2\", \"\")\n",
    "    string = string.replace(\"km²\", \"\")\n",
    "    string = string.replace(\"km\", \"\")\n",
    "\n",
    "    string = string.strip()\n",
    "    \n",
    "    # take care of scientific notation / word cases\n",
    "    string = string.replace(\"x10^10\", \"0000000000\")\n",
    "    string = string.replace(\"7.5 x 10^6\", \"7500000\")\n",
    "    string = string.replace(\"x10^2\", \"00\")\n",
    "    string = string.replace(\" million\", \"000000\")\n",
    "    \n",
    "    # take care of case with space in middle\n",
    "    string = string.replace(\"100 000\", \"100000\")\n",
    "\n",
    "\n",
    "    # convert to numeric\n",
    "    output = float(string)\n",
    "    \n",
    "    return output"
   ]
  },
  {
   "cell_type": "code",
   "execution_count": null,
   "metadata": {
    "scrolled": true,
    "slideshow": {
     "slide_type": "fragment"
    }
   },
   "outputs": [],
   "source": [
    "# apply function across values in crammed columns\n",
    "df[\"crammed\"] = df[\"crammed\"].apply(standardize_crammed)\n",
    "df[\"crammed\"].unique()"
   ]
  },
  {
   "cell_type": "code",
   "execution_count": null,
   "metadata": {
    "scrolled": false,
    "slideshow": {
     "slide_type": "fragment"
    }
   },
   "outputs": [],
   "source": [
    "# check to see how commas are being handled\n",
    "df.dtypes"
   ]
  },
  {
   "cell_type": "code",
   "execution_count": null,
   "metadata": {
    "slideshow": {
     "slide_type": "fragment"
    }
   },
   "outputs": [],
   "source": [
    "# compare to actual value: 1,000-10,000 km^2)\n",
    "df['crammed'].median()"
   ]
  },
  {
   "cell_type": "markdown",
   "metadata": {
    "slideshow": {
     "slide_type": "slide"
    }
   },
   "source": [
    "## Cleaning: San Diego to NYC\n",
    "\n",
    "How many days would it take to walk from here to New York City (assuming no stopping to fix shoes, apply sunscreen, or for sleeping, eating, or other biological needs)?"
   ]
  },
  {
   "cell_type": "code",
   "execution_count": null,
   "metadata": {
    "scrolled": false,
    "slideshow": {
     "slide_type": "fragment"
    }
   },
   "outputs": [],
   "source": [
    "df['SAN_NYC'].unique()"
   ]
  },
  {
   "cell_type": "code",
   "execution_count": null,
   "metadata": {
    "slideshow": {
     "slide_type": "fragment"
    }
   },
   "outputs": [],
   "source": [
    "# standardize distance column\n",
    "# code from last quarter - needs to be updated\n",
    "def standardize_distance(string):\n",
    "    \n",
    "    orig = string\n",
    "    output = None\n",
    "    \n",
    "    # Basic string pre-processing\n",
    "    string = string.lower()\n",
    "    string = string.strip()\n",
    "    \n",
    "    # remove units\n",
    "    string = string.replace(\"days\", \"\")\n",
    "    \n",
    "    # take care of non-days answers\n",
    "    string = string.replace(\"4 months\", \"120\")\n",
    "    string = string.replace(\"1 year\", \"365\")\n",
    "    string = string.replace(\"lots\", \"NaN\")\n",
    "    \n",
    "    # take care of scientific notation \n",
    "    string = string.replace(\"10^3\", \"10000\")\n",
    "    \n",
    "    string = string.strip()\n",
    "\n",
    "    # convert to numeric\n",
    "    output = float(string)\n",
    "    \n",
    "    return output"
   ]
  },
  {
   "cell_type": "code",
   "execution_count": null,
   "metadata": {
    "scrolled": true,
    "slideshow": {
     "slide_type": "fragment"
    }
   },
   "outputs": [],
   "source": [
    "# apply function across values in crammed columns\n",
    "df[\"SAN_NYC\"] = df[\"SAN_NYC\"].apply(standardize_distance)\n",
    "df[\"SAN_NYC\"].unique()"
   ]
  },
  {
   "cell_type": "code",
   "execution_count": null,
   "metadata": {
    "scrolled": true,
    "slideshow": {
     "slide_type": "fragment"
    }
   },
   "outputs": [],
   "source": [
    "# compare to actual value: 38 days)\n",
    "df['SAN_NYC'].median()"
   ]
  },
  {
   "cell_type": "markdown",
   "metadata": {
    "slideshow": {
     "slide_type": "slide"
    }
   },
   "source": [
    "## Take Home Messages\n",
    "\n",
    "1. Look at your data! (People behave unexpectedly.)\n",
    "2. Get your data into a tidy data format.\n",
    "3. Fix (Standardize) your data - or, better yet, collect better data!\n",
    "4. Use your intuition/knowledge/information out there to consider if values make sense."
   ]
  },
  {
   "cell_type": "markdown",
   "metadata": {},
   "source": [
    "**Improvements** (your classmates' suggestsions)"
   ]
  },
  {
   "cell_type": "markdown",
   "metadata": {},
   "source": [
    "### Crammed"
   ]
  },
  {
   "cell_type": "code",
   "execution_count": 12,
   "metadata": {},
   "outputs": [],
   "source": [
    "def cram_helper(cram):\n",
    "    if len(cram) == 1:\n",
    "        return cram[0]\n",
    "    if cram[1] == '*':\n",
    "        return str(float(cram[0]) * float(cram[2]))\n",
    "\n",
    "    \n",
    "df[\"crammed_ss\"] = pd.to_numeric(df[\"crammed\"].\n",
    "                              str.lower().\n",
    "                              replace({\",\":\"\",\n",
    "                                       \"\\([\\(\\w /\\.~\\^)=?\\']+\":\"1633.5\", \n",
    "                                       \"km[\\^]?2\":\"\", \"\\^\":\"e\", \n",
    "                                       \" million\": \" * 1000000\", \n",
    "                                       \"^[a-z]+$\":\"\", \"[x]\": \" * \"}, \n",
    "                                      regex = True).\n",
    "                              str.strip().\n",
    "                              str.split(\" \").\n",
    "                              apply(cram_helper), \n",
    "                              errors = 'coerce')"
   ]
  },
  {
   "cell_type": "code",
   "execution_count": 13,
   "metadata": {},
   "outputs": [],
   "source": [
    "# standardize crammed column\n",
    "def standardize_crammed_df(string):\n",
    "\n",
    "    orig = string\n",
    "    output = None\n",
    "\n",
    "# Basic string pre-processing\n",
    "    string = string.lower()\n",
    "    string = string.strip()\n",
    "\n",
    "# take care of commas\n",
    "    string = string.replace(\",\", \"\")\n",
    "\n",
    "# take care of inclded unit cases\n",
    "    string = string.replace(\"km2\", \"\")\n",
    "    string = string.replace(\"km^2\", \"\")\n",
    "\n",
    "    string = string.strip()\n",
    "\n",
    "# take care of scientific notation / word cases\n",
    "    string = string.replace(\"x10^8\", \"00000000\")\n",
    "    string = string.replace(\"*10^12\", \"000000000000\")\n",
    "    string = string.replace(\"10^6\", \"1000000\")\n",
    "    string = string.replace(\"1.3x10^3\", \"1300\")\n",
    "    string = string.replace(\"10^5\", \"100000\")\n",
    "    string = string.replace(\"3.5 million\", \"3500000\")\n",
    "\n",
    "# take care of invalid entries (why would you do this)\n",
    "    string = string.replace(\"idk\", \"NaN\")\n",
    "    string = string.replace(\"texas\", \"NaN\")\n",
    "\n",
    "# take care of that one really long string that no one asked for\n",
    "    string = string.replace(\"(sqr(7.5 billion people) * 0.00033 m) * (sqr(7.5 billion people) * 0.00066 m) ~ 1633.5  (a rectangle of people 'cause our sides are shorter than our fronts/backs???)\", \"1633.5\")\n",
    "\n",
    "# convert to numeric\n",
    "    output = float(string)\n",
    "\n",
    "    return output"
   ]
  },
  {
   "cell_type": "code",
   "execution_count": 14,
   "metadata": {},
   "outputs": [],
   "source": [
    "def standardize_crammed_ai(string):\n",
    "\n",
    "    output = None\n",
    "\n",
    "    # Basic string pre-processing + take care of commas\n",
    "    string = string.lower().strip().replace(\",\", \"\")\n",
    "\n",
    "    # take care of included unit cases\n",
    "    string = string.replace(\"km^2\", \"\").strip()\n",
    "    string = string.replace(\"km2\", \"\").strip()\n",
    "\n",
    "    # take care of special cases\n",
    "    string = string.replace(\"idk\", \"\")\n",
    "    string = string.replace(\"(sqr(7.5 billion people) * 0.00033 m) * (sqr(7.5 billion people) * 0.00066 m) ~ 1633.5  (a rectangle of people 'cause our sides are shorter than our fronts/backs???)\", \"1633.5\")\n",
    "    string = string.replace(\"texas\", \"695663\")\n",
    "\n",
    "    # take care of scientific notation and word cases with math/eval\n",
    "    string = string.replace(\" million\", \"1000000\")\n",
    "    string = string.replace(\"x\", \"\").replace(\"^\", \"**\")\n",
    "\n",
    "    # convert to numeric\n",
    "    try:\n",
    "        output = float(eval(string))\n",
    "    except:\n",
    "        output = np.nan\n",
    "\n",
    "    return output"
   ]
  },
  {
   "cell_type": "code",
   "execution_count": 15,
   "metadata": {},
   "outputs": [],
   "source": [
    "# standardize crammed column\n",
    "def standardize_crammed_tc(string):\n",
    "\n",
    "    string = string.lower()\n",
    "    num_list = []\n",
    "\n",
    "    #Remove answers in words\n",
    "    if not string[0] in [str(x) for x in range(10)]:\n",
    "        return None\n",
    "\n",
    "    # Remove unnecessary char\n",
    "    if \",\" in string:\n",
    "        string = string.replace(\",\", \"\")\n",
    "    if \" \" in string:\n",
    "        string = string.replace(\" \", \"\")\n",
    "    if \"km\" in string:\n",
    "        string = string.split(\"km\")[0]\n",
    "\n",
    "    # Solve outliner \"million\"\n",
    "    if \"million\" in string:\n",
    "        string = string.replace(\"million\", \"x10^6\")\n",
    "\n",
    "    # Separate numbers to be multiplied\n",
    "    if \"x\" in string:\n",
    "        num_list = string.split(\"x\", 1)\n",
    "    elif \"\" in string:\n",
    "        num_list = string.split(\"\", 1)\n",
    "    else:\n",
    "        num_list.append(string)\n",
    "\n",
    "    # Calculate scientific notation\n",
    "    if \"^\" in num_list[-1]:\n",
    "        ten, power = num_list[-1].split(\"^\", 1)\n",
    "        num_list[-1] = float(ten) ** float(power)\n",
    "\n",
    "    # Construct number\n",
    "    if len(num_list) == 1:\n",
    "        output = float(num_list[0])\n",
    "    else:\n",
    "        output = float(num_list[0]) * float(num_list[1])\n",
    "    \n",
    "    return output"
   ]
  },
  {
   "cell_type": "code",
   "execution_count": 16,
   "metadata": {},
   "outputs": [],
   "source": [
    "df[\"crammed_ai\"] = df[\"crammed\"].apply(standardize_crammed_ai)\n",
    "df[\"crammed_df\"] = df[\"crammed\"].apply(standardize_crammed_df)"
   ]
  },
  {
   "cell_type": "code",
   "execution_count": 17,
   "metadata": {},
   "outputs": [
    {
     "name": "stdout",
     "output_type": "stream",
     "text": [
      "100000.0 100000.0 99999.5\n"
     ]
    }
   ],
   "source": [
    "# compare to actual value: 1,000-10,000 km^2)\n",
    "print(df['crammed_ss'].median(), df['crammed_df'].median(), df['crammed_ai'].median())"
   ]
  },
  {
   "cell_type": "code",
   "execution_count": 18,
   "metadata": {
    "scrolled": true
   },
   "outputs": [
    {
     "data": {
      "text/html": [
       "<div>\n",
       "<style scoped>\n",
       "    .dataframe tbody tr th:only-of-type {\n",
       "        vertical-align: middle;\n",
       "    }\n",
       "\n",
       "    .dataframe tbody tr th {\n",
       "        vertical-align: top;\n",
       "    }\n",
       "\n",
       "    .dataframe thead th {\n",
       "        text-align: right;\n",
       "    }\n",
       "</style>\n",
       "<table border=\"1\" class=\"dataframe\">\n",
       "  <thead>\n",
       "    <tr style=\"text-align: right;\">\n",
       "      <th></th>\n",
       "      <th>timestamp</th>\n",
       "      <th>hair_growth</th>\n",
       "      <th>crammed</th>\n",
       "      <th>SAN_NYC</th>\n",
       "      <th>crammed_ss</th>\n",
       "      <th>crammed_ai</th>\n",
       "      <th>crammed_df</th>\n",
       "    </tr>\n",
       "  </thead>\n",
       "  <tbody>\n",
       "    <tr>\n",
       "      <th>17</th>\n",
       "      <td>1/29/21 9:52</td>\n",
       "      <td>60.00</td>\n",
       "      <td>3.5 million</td>\n",
       "      <td>1 year</td>\n",
       "      <td>3.500000e+06</td>\n",
       "      <td>3.510000e+00</td>\n",
       "      <td>3.500000e+06</td>\n",
       "    </tr>\n",
       "    <tr>\n",
       "      <th>29</th>\n",
       "      <td>1/29/21 9:53</td>\n",
       "      <td>20.00</td>\n",
       "      <td>7x10^8</td>\n",
       "      <td>40</td>\n",
       "      <td>7.000000e+09</td>\n",
       "      <td>6.457535e+22</td>\n",
       "      <td>7.000000e+08</td>\n",
       "    </tr>\n",
       "    <tr>\n",
       "      <th>31</th>\n",
       "      <td>1/29/21 9:54</td>\n",
       "      <td>24.00</td>\n",
       "      <td>4*10^12</td>\n",
       "      <td>2000</td>\n",
       "      <td>NaN</td>\n",
       "      <td>4.000000e+12</td>\n",
       "      <td>4.000000e+12</td>\n",
       "    </tr>\n",
       "    <tr>\n",
       "      <th>36</th>\n",
       "      <td>1/29/21 9:54</td>\n",
       "      <td>15.24</td>\n",
       "      <td>idk</td>\n",
       "      <td>20</td>\n",
       "      <td>NaN</td>\n",
       "      <td>NaN</td>\n",
       "      <td>NaN</td>\n",
       "    </tr>\n",
       "    <tr>\n",
       "      <th>48</th>\n",
       "      <td>1/29/21 9:58</td>\n",
       "      <td>6.00</td>\n",
       "      <td>(sqr(7.5 billion people) * 0.00033 m) * (sqr(7...</td>\n",
       "      <td>(3000 mi * 20 min/per mile)/60 min = 1000 hrs???</td>\n",
       "      <td>NaN</td>\n",
       "      <td>1.633500e+03</td>\n",
       "      <td>1.633500e+03</td>\n",
       "    </tr>\n",
       "    <tr>\n",
       "      <th>63</th>\n",
       "      <td>1/29/21 18:46</td>\n",
       "      <td>100.00</td>\n",
       "      <td>10^6 km^2</td>\n",
       "      <td>10^3 days</td>\n",
       "      <td>1.000000e+07</td>\n",
       "      <td>1.000000e+06</td>\n",
       "      <td>1.000000e+06</td>\n",
       "    </tr>\n",
       "    <tr>\n",
       "      <th>65</th>\n",
       "      <td>1/29/21 21:27</td>\n",
       "      <td>10.00</td>\n",
       "      <td>Texas</td>\n",
       "      <td>73</td>\n",
       "      <td>NaN</td>\n",
       "      <td>6.956630e+05</td>\n",
       "      <td>NaN</td>\n",
       "    </tr>\n",
       "    <tr>\n",
       "      <th>68</th>\n",
       "      <td>1/29/21 23:16</td>\n",
       "      <td>60.00</td>\n",
       "      <td>1.3x10^3</td>\n",
       "      <td>60</td>\n",
       "      <td>1.300000e+04</td>\n",
       "      <td>2.248091e+00</td>\n",
       "      <td>1.300000e+03</td>\n",
       "    </tr>\n",
       "    <tr>\n",
       "      <th>73</th>\n",
       "      <td>1/30/21 9:02</td>\n",
       "      <td>100.00</td>\n",
       "      <td>10^5</td>\n",
       "      <td>10^2</td>\n",
       "      <td>1.000000e+06</td>\n",
       "      <td>1.000000e+05</td>\n",
       "      <td>1.000000e+05</td>\n",
       "    </tr>\n",
       "  </tbody>\n",
       "</table>\n",
       "</div>"
      ],
      "text/plain": [
       "        timestamp  hair_growth  \\\n",
       "17   1/29/21 9:52        60.00   \n",
       "29   1/29/21 9:53        20.00   \n",
       "31   1/29/21 9:54        24.00   \n",
       "36   1/29/21 9:54        15.24   \n",
       "48   1/29/21 9:58         6.00   \n",
       "63  1/29/21 18:46       100.00   \n",
       "65  1/29/21 21:27        10.00   \n",
       "68  1/29/21 23:16        60.00   \n",
       "73   1/30/21 9:02       100.00   \n",
       "\n",
       "                                              crammed  \\\n",
       "17                                        3.5 million   \n",
       "29                                             7x10^8   \n",
       "31                                            4*10^12   \n",
       "36                                                idk   \n",
       "48  (sqr(7.5 billion people) * 0.00033 m) * (sqr(7...   \n",
       "63                                          10^6 km^2   \n",
       "65                                              Texas   \n",
       "68                                           1.3x10^3   \n",
       "73                                               10^5   \n",
       "\n",
       "                                             SAN_NYC    crammed_ss  \\\n",
       "17                                            1 year  3.500000e+06   \n",
       "29                                                40  7.000000e+09   \n",
       "31                                              2000           NaN   \n",
       "36                                                20           NaN   \n",
       "48  (3000 mi * 20 min/per mile)/60 min = 1000 hrs???           NaN   \n",
       "63                                         10^3 days  1.000000e+07   \n",
       "65                                                73           NaN   \n",
       "68                                                60  1.300000e+04   \n",
       "73                                              10^2  1.000000e+06   \n",
       "\n",
       "      crammed_ai    crammed_df  \n",
       "17  3.510000e+00  3.500000e+06  \n",
       "29  6.457535e+22  7.000000e+08  \n",
       "31  4.000000e+12  4.000000e+12  \n",
       "36           NaN           NaN  \n",
       "48  1.633500e+03  1.633500e+03  \n",
       "63  1.000000e+06  1.000000e+06  \n",
       "65  6.956630e+05           NaN  \n",
       "68  2.248091e+00  1.300000e+03  \n",
       "73  1.000000e+05  1.000000e+05  "
      ]
     },
     "execution_count": 18,
     "metadata": {},
     "output_type": "execute_result"
    }
   ],
   "source": [
    "# starting to look at places where values differ\n",
    "# see cases not handled by one or the other method\n",
    "df[df['crammed_ss'] != df['crammed_ai']]"
   ]
  },
  {
   "cell_type": "code",
   "execution_count": 19,
   "metadata": {},
   "outputs": [
    {
     "data": {
      "text/html": [
       "<div>\n",
       "<style scoped>\n",
       "    .dataframe tbody tr th:only-of-type {\n",
       "        vertical-align: middle;\n",
       "    }\n",
       "\n",
       "    .dataframe tbody tr th {\n",
       "        vertical-align: top;\n",
       "    }\n",
       "\n",
       "    .dataframe thead th {\n",
       "        text-align: right;\n",
       "    }\n",
       "</style>\n",
       "<table border=\"1\" class=\"dataframe\">\n",
       "  <thead>\n",
       "    <tr style=\"text-align: right;\">\n",
       "      <th></th>\n",
       "      <th>timestamp</th>\n",
       "      <th>hair_growth</th>\n",
       "      <th>crammed</th>\n",
       "      <th>SAN_NYC</th>\n",
       "      <th>crammed_ss</th>\n",
       "      <th>crammed_ai</th>\n",
       "      <th>crammed_df</th>\n",
       "    </tr>\n",
       "  </thead>\n",
       "  <tbody>\n",
       "    <tr>\n",
       "      <th>29</th>\n",
       "      <td>1/29/21 9:53</td>\n",
       "      <td>20.00</td>\n",
       "      <td>7x10^8</td>\n",
       "      <td>40</td>\n",
       "      <td>7.000000e+09</td>\n",
       "      <td>6.457535e+22</td>\n",
       "      <td>7.000000e+08</td>\n",
       "    </tr>\n",
       "    <tr>\n",
       "      <th>31</th>\n",
       "      <td>1/29/21 9:54</td>\n",
       "      <td>24.00</td>\n",
       "      <td>4*10^12</td>\n",
       "      <td>2000</td>\n",
       "      <td>NaN</td>\n",
       "      <td>4.000000e+12</td>\n",
       "      <td>4.000000e+12</td>\n",
       "    </tr>\n",
       "    <tr>\n",
       "      <th>36</th>\n",
       "      <td>1/29/21 9:54</td>\n",
       "      <td>15.24</td>\n",
       "      <td>idk</td>\n",
       "      <td>20</td>\n",
       "      <td>NaN</td>\n",
       "      <td>NaN</td>\n",
       "      <td>NaN</td>\n",
       "    </tr>\n",
       "    <tr>\n",
       "      <th>48</th>\n",
       "      <td>1/29/21 9:58</td>\n",
       "      <td>6.00</td>\n",
       "      <td>(sqr(7.5 billion people) * 0.00033 m) * (sqr(7...</td>\n",
       "      <td>(3000 mi * 20 min/per mile)/60 min = 1000 hrs???</td>\n",
       "      <td>NaN</td>\n",
       "      <td>1.633500e+03</td>\n",
       "      <td>1.633500e+03</td>\n",
       "    </tr>\n",
       "    <tr>\n",
       "      <th>63</th>\n",
       "      <td>1/29/21 18:46</td>\n",
       "      <td>100.00</td>\n",
       "      <td>10^6 km^2</td>\n",
       "      <td>10^3 days</td>\n",
       "      <td>1.000000e+07</td>\n",
       "      <td>1.000000e+06</td>\n",
       "      <td>1.000000e+06</td>\n",
       "    </tr>\n",
       "    <tr>\n",
       "      <th>65</th>\n",
       "      <td>1/29/21 21:27</td>\n",
       "      <td>10.00</td>\n",
       "      <td>Texas</td>\n",
       "      <td>73</td>\n",
       "      <td>NaN</td>\n",
       "      <td>6.956630e+05</td>\n",
       "      <td>NaN</td>\n",
       "    </tr>\n",
       "    <tr>\n",
       "      <th>68</th>\n",
       "      <td>1/29/21 23:16</td>\n",
       "      <td>60.00</td>\n",
       "      <td>1.3x10^3</td>\n",
       "      <td>60</td>\n",
       "      <td>1.300000e+04</td>\n",
       "      <td>2.248091e+00</td>\n",
       "      <td>1.300000e+03</td>\n",
       "    </tr>\n",
       "    <tr>\n",
       "      <th>73</th>\n",
       "      <td>1/30/21 9:02</td>\n",
       "      <td>100.00</td>\n",
       "      <td>10^5</td>\n",
       "      <td>10^2</td>\n",
       "      <td>1.000000e+06</td>\n",
       "      <td>1.000000e+05</td>\n",
       "      <td>1.000000e+05</td>\n",
       "    </tr>\n",
       "  </tbody>\n",
       "</table>\n",
       "</div>"
      ],
      "text/plain": [
       "        timestamp  hair_growth  \\\n",
       "29   1/29/21 9:53        20.00   \n",
       "31   1/29/21 9:54        24.00   \n",
       "36   1/29/21 9:54        15.24   \n",
       "48   1/29/21 9:58         6.00   \n",
       "63  1/29/21 18:46       100.00   \n",
       "65  1/29/21 21:27        10.00   \n",
       "68  1/29/21 23:16        60.00   \n",
       "73   1/30/21 9:02       100.00   \n",
       "\n",
       "                                              crammed  \\\n",
       "29                                             7x10^8   \n",
       "31                                            4*10^12   \n",
       "36                                                idk   \n",
       "48  (sqr(7.5 billion people) * 0.00033 m) * (sqr(7...   \n",
       "63                                          10^6 km^2   \n",
       "65                                              Texas   \n",
       "68                                           1.3x10^3   \n",
       "73                                               10^5   \n",
       "\n",
       "                                             SAN_NYC    crammed_ss  \\\n",
       "29                                                40  7.000000e+09   \n",
       "31                                              2000           NaN   \n",
       "36                                                20           NaN   \n",
       "48  (3000 mi * 20 min/per mile)/60 min = 1000 hrs???           NaN   \n",
       "63                                         10^3 days  1.000000e+07   \n",
       "65                                                73           NaN   \n",
       "68                                                60  1.300000e+04   \n",
       "73                                              10^2  1.000000e+06   \n",
       "\n",
       "      crammed_ai    crammed_df  \n",
       "29  6.457535e+22  7.000000e+08  \n",
       "31  4.000000e+12  4.000000e+12  \n",
       "36           NaN           NaN  \n",
       "48  1.633500e+03  1.633500e+03  \n",
       "63  1.000000e+06  1.000000e+06  \n",
       "65  6.956630e+05           NaN  \n",
       "68  2.248091e+00  1.300000e+03  \n",
       "73  1.000000e+05  1.000000e+05  "
      ]
     },
     "execution_count": 19,
     "metadata": {},
     "output_type": "execute_result"
    }
   ],
   "source": [
    "df[df['crammed_ss'] != df['crammed_df']]"
   ]
  },
  {
   "cell_type": "code",
   "execution_count": 32,
   "metadata": {},
   "outputs": [
    {
     "data": {
      "text/html": [
       "<div>\n",
       "<style scoped>\n",
       "    .dataframe tbody tr th:only-of-type {\n",
       "        vertical-align: middle;\n",
       "    }\n",
       "\n",
       "    .dataframe tbody tr th {\n",
       "        vertical-align: top;\n",
       "    }\n",
       "\n",
       "    .dataframe thead th {\n",
       "        text-align: right;\n",
       "    }\n",
       "</style>\n",
       "<table border=\"1\" class=\"dataframe\">\n",
       "  <thead>\n",
       "    <tr style=\"text-align: right;\">\n",
       "      <th></th>\n",
       "      <th>timestamp</th>\n",
       "      <th>hair_growth</th>\n",
       "      <th>crammed</th>\n",
       "      <th>SAN_NYC</th>\n",
       "      <th>crammed_ss</th>\n",
       "      <th>crammed_ai</th>\n",
       "      <th>crammed_df</th>\n",
       "    </tr>\n",
       "  </thead>\n",
       "  <tbody>\n",
       "    <tr>\n",
       "      <th>17</th>\n",
       "      <td>1/29/21 9:52</td>\n",
       "      <td>60.00</td>\n",
       "      <td>3.5 million</td>\n",
       "      <td>1 year</td>\n",
       "      <td>3.500000e+06</td>\n",
       "      <td>3.510000e+00</td>\n",
       "      <td>3500000.0</td>\n",
       "    </tr>\n",
       "    <tr>\n",
       "      <th>29</th>\n",
       "      <td>1/29/21 9:53</td>\n",
       "      <td>20.00</td>\n",
       "      <td>7x10^8</td>\n",
       "      <td>40</td>\n",
       "      <td>7.000000e+09</td>\n",
       "      <td>6.457535e+22</td>\n",
       "      <td>700000000.0</td>\n",
       "    </tr>\n",
       "    <tr>\n",
       "      <th>36</th>\n",
       "      <td>1/29/21 9:54</td>\n",
       "      <td>15.24</td>\n",
       "      <td>idk</td>\n",
       "      <td>20</td>\n",
       "      <td>NaN</td>\n",
       "      <td>NaN</td>\n",
       "      <td>NaN</td>\n",
       "    </tr>\n",
       "    <tr>\n",
       "      <th>65</th>\n",
       "      <td>1/29/21 21:27</td>\n",
       "      <td>10.00</td>\n",
       "      <td>Texas</td>\n",
       "      <td>73</td>\n",
       "      <td>NaN</td>\n",
       "      <td>6.956630e+05</td>\n",
       "      <td>NaN</td>\n",
       "    </tr>\n",
       "    <tr>\n",
       "      <th>68</th>\n",
       "      <td>1/29/21 23:16</td>\n",
       "      <td>60.00</td>\n",
       "      <td>1.3x10^3</td>\n",
       "      <td>60</td>\n",
       "      <td>1.300000e+04</td>\n",
       "      <td>2.248091e+00</td>\n",
       "      <td>1300.0</td>\n",
       "    </tr>\n",
       "  </tbody>\n",
       "</table>\n",
       "</div>"
      ],
      "text/plain": [
       "        timestamp  hair_growth      crammed SAN_NYC    crammed_ss  \\\n",
       "17   1/29/21 9:52        60.00  3.5 million  1 year  3.500000e+06   \n",
       "29   1/29/21 9:53        20.00       7x10^8      40  7.000000e+09   \n",
       "36   1/29/21 9:54        15.24          idk      20           NaN   \n",
       "65  1/29/21 21:27        10.00        Texas      73           NaN   \n",
       "68  1/29/21 23:16        60.00     1.3x10^3      60  1.300000e+04   \n",
       "\n",
       "      crammed_ai   crammed_df  \n",
       "17  3.510000e+00    3500000.0  \n",
       "29  6.457535e+22  700000000.0  \n",
       "36           NaN          NaN  \n",
       "65  6.956630e+05          NaN  \n",
       "68  2.248091e+00       1300.0  "
      ]
     },
     "execution_count": 32,
     "metadata": {},
     "output_type": "execute_result"
    }
   ],
   "source": [
    "df[df['crammed_ai'] != df['crammed_df']]"
   ]
  },
  {
   "cell_type": "markdown",
   "metadata": {},
   "source": [
    "### San Diego to NYC"
   ]
  },
  {
   "cell_type": "code",
   "execution_count": 20,
   "metadata": {},
   "outputs": [],
   "source": [
    "def dist_helper(distance):\n",
    "    if len(distance) == 1:\n",
    "        return distance[0]\n",
    "    if distance[1] == '*':\n",
    "        return str(float(distance[0]) * float(distance[2]))\n",
    "    if distance[1] == '/':\n",
    "        return str(float(distance[0]) / float(distance[2]))\n",
    "\n",
    "df[\"SAN_NYC_ss\"] = pd.to_numeric(df[\"SAN_NYC\"].\n",
    "                              str.lower().\n",
    "                              replace({\"days?\":\"\", \n",
    "                                       \"\\^\":\"e\", \"^\\([\\w */)=?]+$\":\"1000\", \n",
    "                                       \" months?\":\" * 30\", \n",
    "                                       \" hours?\": \" / 24\", \n",
    "                                       \" years?\": \" * 365\"}, regex = True).\n",
    "                              str.strip().\n",
    "                              str.split(' ').\n",
    "                              apply(dist_helper), errors = 'coerce')"
   ]
  },
  {
   "cell_type": "code",
   "execution_count": 21,
   "metadata": {},
   "outputs": [],
   "source": [
    "# standardize distance column\n",
    "def standardize_distance_df(string):\n",
    "\n",
    "    orig = string\n",
    "    output = None\n",
    "\n",
    "    # Basic string pre-processing\n",
    "    string = string.lower()\n",
    "    string = string.strip()\n",
    "\n",
    "    # remove units\n",
    "    string = string.replace(\"days\", \"\")\n",
    "\n",
    "    # take care of non-days answers\n",
    "    string = string.replace(\"1 month\", \"30\")\n",
    "    string = string.replace(\"1 year\", \"365\")\n",
    "    string = string.replace(\"2 years\", \"730\")\n",
    "    string = string.replace(\"1000 hours\", \"41.7\")\n",
    "    string = string.replace(\"8 months\", \"240\")\n",
    "\n",
    "    # take care of scientific notation \n",
    "    string = string.replace(\"10^3\", \"10000\")\n",
    "    string = string.replace(\"10^2\", \"1000\")\n",
    "\n",
    "    # take care of that one really long string no one asked for\n",
    "    string = string.replace(\"(3000 mi * 20 min/per mile)/60 min = 1000 hrs???\", \"41.7\")\n",
    "\n",
    "    string = string.strip()\n",
    "\n",
    "    # convert to numeric\n",
    "    output = float(string)\n",
    "\n",
    "    return output"
   ]
  },
  {
   "cell_type": "code",
   "execution_count": 22,
   "metadata": {},
   "outputs": [],
   "source": [
    "def standardize_distance_ai(string):\n",
    "\n",
    "    output = None\n",
    "\n",
    "    # Basic string pre-processing\n",
    "    string = string.lower().strip()\n",
    "\n",
    "    # remove units\n",
    "    string = string.replace(\"days\", \"\").strip()\n",
    "\n",
    "    # special case\n",
    "    string = string.replace(\"(3000 mi * 20 min/per mile)/60 min = 1000 hrs???\", \"1000 hours\")\n",
    "\n",
    "    # take care of non-days answers (strip 's' for plurals)\n",
    "    string = string.replace(\"month\", \"*30\").strip(' s')\n",
    "    string = string.replace(\"year\", \"*365\").strip(' s')\n",
    "    string = string.replace(\"hour\", \"/24\").strip(' s')\n",
    "\n",
    "    # take care of scientific notation \n",
    "    string = string.replace(\"^\", \"**\")\n",
    "\n",
    "    # convert to numeric\n",
    "    try:\n",
    "        output = float(eval(string))\n",
    "    except:\n",
    "        output = np.nan\n",
    "\n",
    "    return output"
   ]
  },
  {
   "cell_type": "code",
   "execution_count": 23,
   "metadata": {},
   "outputs": [],
   "source": [
    "df[\"SAN_NYC_ai\"] = df[\"SAN_NYC\"].apply(standardize_distance_ai)"
   ]
  },
  {
   "cell_type": "code",
   "execution_count": 24,
   "metadata": {},
   "outputs": [
    {
     "name": "stdout",
     "output_type": "stream",
     "text": [
      "87.0 85.0\n"
     ]
    }
   ],
   "source": [
    "# compare to actual value: 38 days\n",
    "print(df['SAN_NYC_ss'].median(), df['SAN_NYC_ai'].median())"
   ]
  },
  {
   "cell_type": "code",
   "execution_count": 25,
   "metadata": {
    "scrolled": false
   },
   "outputs": [
    {
     "data": {
      "text/html": [
       "<div>\n",
       "<style scoped>\n",
       "    .dataframe tbody tr th:only-of-type {\n",
       "        vertical-align: middle;\n",
       "    }\n",
       "\n",
       "    .dataframe tbody tr th {\n",
       "        vertical-align: top;\n",
       "    }\n",
       "\n",
       "    .dataframe thead th {\n",
       "        text-align: right;\n",
       "    }\n",
       "</style>\n",
       "<table border=\"1\" class=\"dataframe\">\n",
       "  <thead>\n",
       "    <tr style=\"text-align: right;\">\n",
       "      <th></th>\n",
       "      <th>timestamp</th>\n",
       "      <th>hair_growth</th>\n",
       "      <th>crammed</th>\n",
       "      <th>SAN_NYC</th>\n",
       "      <th>crammed_ss</th>\n",
       "      <th>crammed_ai</th>\n",
       "      <th>crammed_df</th>\n",
       "      <th>SAN_NYC_ss</th>\n",
       "      <th>SAN_NYC_ai</th>\n",
       "    </tr>\n",
       "  </thead>\n",
       "  <tbody>\n",
       "    <tr>\n",
       "      <th>48</th>\n",
       "      <td>1/29/21 9:58</td>\n",
       "      <td>6.0</td>\n",
       "      <td>(sqr(7.5 billion people) * 0.00033 m) * (sqr(7...</td>\n",
       "      <td>(3000 mi * 20 min/per mile)/60 min = 1000 hrs???</td>\n",
       "      <td>NaN</td>\n",
       "      <td>1633.5</td>\n",
       "      <td>1633.5</td>\n",
       "      <td>1000.000000</td>\n",
       "      <td>41.666667</td>\n",
       "    </tr>\n",
       "    <tr>\n",
       "      <th>50</th>\n",
       "      <td>1/29/21 10:01</td>\n",
       "      <td>2.5</td>\n",
       "      <td>1,000,000</td>\n",
       "      <td>1000 hours</td>\n",
       "      <td>1000000.0</td>\n",
       "      <td>1000000.0</td>\n",
       "      <td>1000000.0</td>\n",
       "      <td>41.666667</td>\n",
       "      <td>41.666667</td>\n",
       "    </tr>\n",
       "    <tr>\n",
       "      <th>63</th>\n",
       "      <td>1/29/21 18:46</td>\n",
       "      <td>100.0</td>\n",
       "      <td>10^6 km^2</td>\n",
       "      <td>10^3 days</td>\n",
       "      <td>10000000.0</td>\n",
       "      <td>1000000.0</td>\n",
       "      <td>1000000.0</td>\n",
       "      <td>10000.000000</td>\n",
       "      <td>1000.000000</td>\n",
       "    </tr>\n",
       "    <tr>\n",
       "      <th>73</th>\n",
       "      <td>1/30/21 9:02</td>\n",
       "      <td>100.0</td>\n",
       "      <td>10^5</td>\n",
       "      <td>10^2</td>\n",
       "      <td>1000000.0</td>\n",
       "      <td>100000.0</td>\n",
       "      <td>100000.0</td>\n",
       "      <td>1000.000000</td>\n",
       "      <td>100.000000</td>\n",
       "    </tr>\n",
       "  </tbody>\n",
       "</table>\n",
       "</div>"
      ],
      "text/plain": [
       "        timestamp  hair_growth  \\\n",
       "48   1/29/21 9:58          6.0   \n",
       "50  1/29/21 10:01          2.5   \n",
       "63  1/29/21 18:46        100.0   \n",
       "73   1/30/21 9:02        100.0   \n",
       "\n",
       "                                              crammed  \\\n",
       "48  (sqr(7.5 billion people) * 0.00033 m) * (sqr(7...   \n",
       "50                                          1,000,000   \n",
       "63                                          10^6 km^2   \n",
       "73                                               10^5   \n",
       "\n",
       "                                             SAN_NYC  crammed_ss  crammed_ai  \\\n",
       "48  (3000 mi * 20 min/per mile)/60 min = 1000 hrs???         NaN      1633.5   \n",
       "50                                        1000 hours   1000000.0   1000000.0   \n",
       "63                                         10^3 days  10000000.0   1000000.0   \n",
       "73                                              10^2   1000000.0    100000.0   \n",
       "\n",
       "    crammed_df    SAN_NYC_ss   SAN_NYC_ai  \n",
       "48      1633.5   1000.000000    41.666667  \n",
       "50   1000000.0     41.666667    41.666667  \n",
       "63   1000000.0  10000.000000  1000.000000  \n",
       "73    100000.0   1000.000000   100.000000  "
      ]
     },
     "execution_count": 25,
     "metadata": {},
     "output_type": "execute_result"
    }
   ],
   "source": [
    "# where values differ between two approaches\n",
    "df[df['SAN_NYC_ss'] != df['SAN_NYC_ai']]"
   ]
  },
  {
   "cell_type": "markdown",
   "metadata": {},
   "source": [
    "The test: how do new functions work on last year's data (different specific responses)"
   ]
  },
  {
   "cell_type": "markdown",
   "metadata": {},
   "source": [
    "## Crammed"
   ]
  },
  {
   "cell_type": "code",
   "execution_count": 30,
   "metadata": {},
   "outputs": [
    {
     "data": {
      "text/html": [
       "<div>\n",
       "<style scoped>\n",
       "    .dataframe tbody tr th:only-of-type {\n",
       "        vertical-align: middle;\n",
       "    }\n",
       "\n",
       "    .dataframe tbody tr th {\n",
       "        vertical-align: top;\n",
       "    }\n",
       "\n",
       "    .dataframe thead th {\n",
       "        text-align: right;\n",
       "    }\n",
       "</style>\n",
       "<table border=\"1\" class=\"dataframe\">\n",
       "  <thead>\n",
       "    <tr style=\"text-align: right;\">\n",
       "      <th></th>\n",
       "      <th>timestamp</th>\n",
       "      <th>hair_growth</th>\n",
       "      <th>crammed</th>\n",
       "      <th>SAN_NYC</th>\n",
       "    </tr>\n",
       "  </thead>\n",
       "  <tbody>\n",
       "    <tr>\n",
       "      <th>0</th>\n",
       "      <td>10/10/20 2:37</td>\n",
       "      <td>20</td>\n",
       "      <td>3500000</td>\n",
       "      <td>10</td>\n",
       "    </tr>\n",
       "    <tr>\n",
       "      <th>1</th>\n",
       "      <td>10/10/20 13:16</td>\n",
       "      <td>25</td>\n",
       "      <td>1 million</td>\n",
       "      <td>50</td>\n",
       "    </tr>\n",
       "    <tr>\n",
       "      <th>2</th>\n",
       "      <td>10/10/20 13:45</td>\n",
       "      <td>10^3 cm/yr</td>\n",
       "      <td>10^7 km^2</td>\n",
       "      <td>10^4</td>\n",
       "    </tr>\n",
       "    <tr>\n",
       "      <th>3</th>\n",
       "      <td>10/10/20 13:52</td>\n",
       "      <td>6cm/yr</td>\n",
       "      <td>1000km^2</td>\n",
       "      <td>200 days</td>\n",
       "    </tr>\n",
       "    <tr>\n",
       "      <th>4</th>\n",
       "      <td>10/10/20 14:18</td>\n",
       "      <td>81</td>\n",
       "      <td>16875000000</td>\n",
       "      <td>28000</td>\n",
       "    </tr>\n",
       "    <tr>\n",
       "      <th>...</th>\n",
       "      <td>...</td>\n",
       "      <td>...</td>\n",
       "      <td>...</td>\n",
       "      <td>...</td>\n",
       "    </tr>\n",
       "    <tr>\n",
       "      <th>186</th>\n",
       "      <td>10/16/20 18:00</td>\n",
       "      <td>12</td>\n",
       "      <td>650</td>\n",
       "      <td>42 (I'm assuming \"here\" means ucsd)</td>\n",
       "    </tr>\n",
       "    <tr>\n",
       "      <th>187</th>\n",
       "      <td>10/16/20 20:05</td>\n",
       "      <td>10</td>\n",
       "      <td>2500000</td>\n",
       "      <td>1000</td>\n",
       "    </tr>\n",
       "    <tr>\n",
       "      <th>188</th>\n",
       "      <td>10/16/20 22:32</td>\n",
       "      <td>7</td>\n",
       "      <td>100000</td>\n",
       "      <td>240</td>\n",
       "    </tr>\n",
       "    <tr>\n",
       "      <th>189</th>\n",
       "      <td>10/16/20 23:04</td>\n",
       "      <td>20</td>\n",
       "      <td>500000</td>\n",
       "      <td>40</td>\n",
       "    </tr>\n",
       "    <tr>\n",
       "      <th>190</th>\n",
       "      <td>10/22/20 0:47</td>\n",
       "      <td>10^1 cm</td>\n",
       "      <td>10^9</td>\n",
       "      <td>10^2</td>\n",
       "    </tr>\n",
       "  </tbody>\n",
       "</table>\n",
       "<p>191 rows × 4 columns</p>\n",
       "</div>"
      ],
      "text/plain": [
       "          timestamp hair_growth      crammed  \\\n",
       "0     10/10/20 2:37          20      3500000   \n",
       "1    10/10/20 13:16          25    1 million   \n",
       "2    10/10/20 13:45  10^3 cm/yr    10^7 km^2   \n",
       "3    10/10/20 13:52      6cm/yr     1000km^2   \n",
       "4    10/10/20 14:18          81  16875000000   \n",
       "..              ...         ...          ...   \n",
       "186  10/16/20 18:00          12          650   \n",
       "187  10/16/20 20:05          10      2500000   \n",
       "188  10/16/20 22:32           7       100000   \n",
       "189  10/16/20 23:04          20       500000   \n",
       "190   10/22/20 0:47     10^1 cm         10^9   \n",
       "\n",
       "                                 SAN_NYC  \n",
       "0                                     10  \n",
       "1                                     50  \n",
       "2                                   10^4  \n",
       "3                              200 days   \n",
       "4                                  28000  \n",
       "..                                   ...  \n",
       "186  42 (I'm assuming \"here\" means ucsd)  \n",
       "187                                 1000  \n",
       "188                                  240  \n",
       "189                                   40  \n",
       "190                                 10^2  \n",
       "\n",
       "[191 rows x 4 columns]"
      ]
     },
     "execution_count": 30,
     "metadata": {},
     "output_type": "execute_result"
    }
   ],
   "source": [
    "df_fa20 = pd.read_csv('data/fermi_fa20.csv')\n",
    "df_fa20.columns = ['timestamp', 'hair_growth', 'crammed', 'SAN_NYC']\n",
    "df_fa20"
   ]
  },
  {
   "cell_type": "code",
   "execution_count": 32,
   "metadata": {},
   "outputs": [],
   "source": [
    "df_fa20[\"crammed_ai\"] = df_fa20[\"crammed\"].apply(standardize_crammed_ai)\n",
    "# fails df_fa20[\"crammed_df\"] = df_fa20[\"crammed\"].apply(standardize_crammed_df)\n",
    "\n",
    "df_fa20[\"crammed_ss\"] = pd.to_numeric(df_fa20[\"crammed\"].\n",
    "                              str.lower().\n",
    "                              replace({\",\":\"\",\n",
    "                                       \"\\([\\(\\w /\\.~\\^)=?\\']+\":\"1633.5\", \n",
    "                                       \"km[\\^]?2\":\"\", \"\\^\":\"e\", \n",
    "                                       \" million\": \" * 1000000\", \n",
    "                                       \"^[a-z]+$\":\"\", \"[x]\": \" * \"}, \n",
    "                                      regex = True).\n",
    "                              str.strip().\n",
    "                              str.split(\" \").\n",
    "                              apply(cram_helper), \n",
    "                              errors = 'coerce')"
   ]
  },
  {
   "cell_type": "code",
   "execution_count": 33,
   "metadata": {
    "scrolled": true
   },
   "outputs": [
    {
     "name": "stdout",
     "output_type": "stream",
     "text": [
      "100000.0 100000.0\n"
     ]
    }
   ],
   "source": [
    "print(df_fa20['crammed_ss'].median(), df_fa20['crammed_ai'].median())"
   ]
  },
  {
   "cell_type": "markdown",
   "metadata": {},
   "source": [
    "### SAN TO NYC"
   ]
  },
  {
   "cell_type": "code",
   "execution_count": 34,
   "metadata": {},
   "outputs": [],
   "source": [
    "df_fa20[\"SAN_NYC_ss\"] = pd.to_numeric(df_fa20[\"SAN_NYC\"].\n",
    "                              str.lower().\n",
    "                              replace({\"days?\":\"\", \n",
    "                                       \"\\^\":\"e\", \"^\\([\\w */)=?]+$\":\"1000\", \n",
    "                                       \" months?\":\" * 30\", \n",
    "                                       \" hours?\": \" / 24\", \n",
    "                                       \" years?\": \" * 365\"}, regex = True).\n",
    "                              str.strip().\n",
    "                              str.split(' ').\n",
    "                              apply(dist_helper), errors = 'coerce')\n",
    "df_fa20[\"SAN_NYC_ai\"] = df_fa20[\"SAN_NYC\"].apply(standardize_distance_ai)"
   ]
  },
  {
   "cell_type": "code",
   "execution_count": 35,
   "metadata": {},
   "outputs": [
    {
     "name": "stdout",
     "output_type": "stream",
     "text": [
      "69.5 69.5\n"
     ]
    }
   ],
   "source": [
    "print(df_fa20['SAN_NYC_ss'].median(), df_fa20['SAN_NYC_ai'].median())"
   ]
  }
 ],
 "metadata": {
  "celltoolbar": "Slideshow",
  "kernelspec": {
   "display_name": "Python 3",
   "language": "python",
   "name": "python3"
  },
  "language_info": {
   "codemirror_mode": {
    "name": "ipython",
    "version": 3
   },
   "file_extension": ".py",
   "mimetype": "text/x-python",
   "name": "python",
   "nbconvert_exporter": "python",
   "pygments_lexer": "ipython3",
   "version": "3.7.9"
  },
  "rise": {
   "scroll": true
  }
 },
 "nbformat": 4,
 "nbformat_minor": 2
}
