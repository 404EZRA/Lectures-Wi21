{
 "cells": [
  {
   "cell_type": "markdown",
   "metadata": {
    "nbgrader": {
     "grade": false,
     "grade_id": "cell-866f0ac1af1bb1ca",
     "locked": true,
     "schema_version": 3,
     "solution": false
    }
   },
   "source": [
    "# Case Study : Inference\n",
    "\n",
    "Since this is the second case study we'll be doing, you have some idea of how things work now. The idea here is that we spent in class talking about inference and walking through some examples, and now it's your turn to do an inferential analysis!\n",
    "\n",
    "Your goal is to, without much structure provided, consider what we discussed in lecture last week. Then, utilize the data provided to answer the question: *Do Pulitzers help newspapers keep readers?*, or more specifically *By looking at Pulitzer prizes awarded and changes in readership, can we determine what the effect of prestige is on the viewership at the 50 most popular newspapers between 2004 and 2013?*\n",
    "\n",
    "The URL to the data for use in answering this question from FiveThirtyEight is https://raw.githubusercontent.com/fivethirtyeight/data/master/pulitzer/pulitzer-circulation-data.csv. \n"
   ]
  },
  {
   "cell_type": "markdown",
   "metadata": {},
   "source": [
    "# Part I : Setup & Data Wrangling\n",
    "\n",
    "In this section you'll want to:\n",
    "- import any packages you'll need for your analysis\n",
    "    - a number are provided for you, but feel free to edit if there are other packages you want to use or changes to the input you want to make (Note: this is allowed in labs; in assignments you're limited to the imports we give you)\n",
    "- read the dataset in\n",
    "- understand what's going on in the data\n",
    "    - how many observations?\n",
    "    - what variables do you have? what variable types are here\n",
    "    - which will you need to answer the question?"
   ]
  },
  {
   "cell_type": "code",
   "execution_count": 1,
   "metadata": {},
   "outputs": [],
   "source": [
    "# Import seaborn and apply its plotting styles\n",
    "import seaborn as sns\n",
    "sns.set(font_scale=2, style=\"white\")\n",
    "\n",
    "# import matplotlib\n",
    "import matplotlib as mpl\n",
    "import matplotlib.pyplot as plt\n",
    "import matplotlib.style as style\n",
    "# set plotting size parameter\n",
    "plt.rcParams['figure.figsize'] = (17, 7)\n",
    "\n",
    "# import pandas & numpy library\n",
    "import pandas as pd\n",
    "import numpy as np\n",
    "\n",
    "# Statmodels & patsy\n",
    "import patsy\n",
    "import statsmodels.api as sm\n",
    "\n",
    "import scipy.stats as stats\n",
    "from scipy.stats import normaltest"
   ]
  },
  {
   "cell_type": "markdown",
   "metadata": {
    "nbgrader": {
     "grade": false,
     "grade_id": "cell-7aa74bace28b24a0",
     "locked": true,
     "schema_version": 3,
     "solution": false
    }
   },
   "source": [
    "**Store the dataset (see URL above) in a variable called `pulitzer`** and take a look at the data."
   ]
  },
  {
   "cell_type": "code",
   "execution_count": 2,
   "metadata": {
    "nbgrader": {
     "grade": false,
     "grade_id": "cell-1bbc77943e957b82",
     "locked": false,
     "schema_version": 3,
     "solution": true
    }
   },
   "outputs": [
    {
     "data": {
      "text/html": [
       "<div>\n",
       "<style scoped>\n",
       "    .dataframe tbody tr th:only-of-type {\n",
       "        vertical-align: middle;\n",
       "    }\n",
       "\n",
       "    .dataframe tbody tr th {\n",
       "        vertical-align: top;\n",
       "    }\n",
       "\n",
       "    .dataframe thead th {\n",
       "        text-align: right;\n",
       "    }\n",
       "</style>\n",
       "<table border=\"1\" class=\"dataframe\">\n",
       "  <thead>\n",
       "    <tr style=\"text-align: right;\">\n",
       "      <th></th>\n",
       "      <th>Newspaper</th>\n",
       "      <th>Daily Circulation, 2004</th>\n",
       "      <th>Daily Circulation, 2013</th>\n",
       "      <th>Change in Daily Circulation, 2004-2013</th>\n",
       "      <th>Pulitzer Prize Winners and Finalists, 1990-2003</th>\n",
       "      <th>Pulitzer Prize Winners and Finalists, 2004-2014</th>\n",
       "      <th>Pulitzer Prize Winners and Finalists, 1990-2014</th>\n",
       "    </tr>\n",
       "  </thead>\n",
       "  <tbody>\n",
       "    <tr>\n",
       "      <th>0</th>\n",
       "      <td>USA Today</td>\n",
       "      <td>2,192,098</td>\n",
       "      <td>1,674,306</td>\n",
       "      <td>-24%</td>\n",
       "      <td>1</td>\n",
       "      <td>1</td>\n",
       "      <td>2</td>\n",
       "    </tr>\n",
       "    <tr>\n",
       "      <th>1</th>\n",
       "      <td>Wall Street Journal</td>\n",
       "      <td>2,101,017</td>\n",
       "      <td>2,378,827</td>\n",
       "      <td>+13%</td>\n",
       "      <td>30</td>\n",
       "      <td>20</td>\n",
       "      <td>50</td>\n",
       "    </tr>\n",
       "    <tr>\n",
       "      <th>2</th>\n",
       "      <td>New York Times</td>\n",
       "      <td>1,119,027</td>\n",
       "      <td>1,865,318</td>\n",
       "      <td>+67%</td>\n",
       "      <td>55</td>\n",
       "      <td>62</td>\n",
       "      <td>117</td>\n",
       "    </tr>\n",
       "    <tr>\n",
       "      <th>3</th>\n",
       "      <td>Los Angeles Times</td>\n",
       "      <td>983,727</td>\n",
       "      <td>653,868</td>\n",
       "      <td>-34%</td>\n",
       "      <td>44</td>\n",
       "      <td>41</td>\n",
       "      <td>85</td>\n",
       "    </tr>\n",
       "    <tr>\n",
       "      <th>4</th>\n",
       "      <td>Washington Post</td>\n",
       "      <td>760,034</td>\n",
       "      <td>474,767</td>\n",
       "      <td>-38%</td>\n",
       "      <td>52</td>\n",
       "      <td>48</td>\n",
       "      <td>100</td>\n",
       "    </tr>\n",
       "  </tbody>\n",
       "</table>\n",
       "</div>"
      ],
      "text/plain": [
       "             Newspaper Daily Circulation, 2004 Daily Circulation, 2013  \\\n",
       "0            USA Today               2,192,098               1,674,306   \n",
       "1  Wall Street Journal               2,101,017               2,378,827   \n",
       "2       New York Times               1,119,027               1,865,318   \n",
       "3    Los Angeles Times                 983,727                 653,868   \n",
       "4      Washington Post                 760,034                 474,767   \n",
       "\n",
       "  Change in Daily Circulation, 2004-2013  \\\n",
       "0                                   -24%   \n",
       "1                                   +13%   \n",
       "2                                   +67%   \n",
       "3                                   -34%   \n",
       "4                                   -38%   \n",
       "\n",
       "   Pulitzer Prize Winners and Finalists, 1990-2003  \\\n",
       "0                                                1   \n",
       "1                                               30   \n",
       "2                                               55   \n",
       "3                                               44   \n",
       "4                                               52   \n",
       "\n",
       "   Pulitzer Prize Winners and Finalists, 2004-2014  \\\n",
       "0                                                1   \n",
       "1                                               20   \n",
       "2                                               62   \n",
       "3                                               41   \n",
       "4                                               48   \n",
       "\n",
       "   Pulitzer Prize Winners and Finalists, 1990-2014  \n",
       "0                                                2  \n",
       "1                                               50  \n",
       "2                                              117  \n",
       "3                                               85  \n",
       "4                                              100  "
      ]
     },
     "execution_count": 2,
     "metadata": {},
     "output_type": "execute_result"
    }
   ],
   "source": [
    "# Get CSV directly from URL above\n",
    "\n",
    "### BEGIN SOLUTION\n",
    "pulitzer = pd.read_csv('https://raw.githubusercontent.com/fivethirtyeight/data/master/pulitzer/pulitzer-circulation-data.csv')\n",
    "pulitzer.head()\n",
    "### END SOLUTION"
   ]
  },
  {
   "cell_type": "code",
   "execution_count": 3,
   "metadata": {
    "nbgrader": {
     "grade": true,
     "grade_id": "cell-74d663e3c72968c5",
     "locked": true,
     "points": 0,
     "schema_version": 3,
     "solution": false
    }
   },
   "outputs": [],
   "source": [
    "# get shape of dataset\n",
    "assert pulitzer.shape == (50, 7)"
   ]
  },
  {
   "cell_type": "code",
   "execution_count": 4,
   "metadata": {},
   "outputs": [
    {
     "data": {
      "text/html": [
       "<div>\n",
       "<style scoped>\n",
       "    .dataframe tbody tr th:only-of-type {\n",
       "        vertical-align: middle;\n",
       "    }\n",
       "\n",
       "    .dataframe tbody tr th {\n",
       "        vertical-align: top;\n",
       "    }\n",
       "\n",
       "    .dataframe thead th {\n",
       "        text-align: right;\n",
       "    }\n",
       "</style>\n",
       "<table border=\"1\" class=\"dataframe\">\n",
       "  <thead>\n",
       "    <tr style=\"text-align: right;\">\n",
       "      <th></th>\n",
       "      <th>Pulitzer Prize Winners and Finalists, 1990-2003</th>\n",
       "      <th>Pulitzer Prize Winners and Finalists, 2004-2014</th>\n",
       "      <th>Pulitzer Prize Winners and Finalists, 1990-2014</th>\n",
       "    </tr>\n",
       "  </thead>\n",
       "  <tbody>\n",
       "    <tr>\n",
       "      <th>count</th>\n",
       "      <td>50.000000</td>\n",
       "      <td>50.000000</td>\n",
       "      <td>50.000000</td>\n",
       "    </tr>\n",
       "    <tr>\n",
       "      <th>mean</th>\n",
       "      <td>8.340000</td>\n",
       "      <td>6.720000</td>\n",
       "      <td>15.060000</td>\n",
       "    </tr>\n",
       "    <tr>\n",
       "      <th>std</th>\n",
       "      <td>12.886649</td>\n",
       "      <td>12.142084</td>\n",
       "      <td>24.640609</td>\n",
       "    </tr>\n",
       "    <tr>\n",
       "      <th>min</th>\n",
       "      <td>0.000000</td>\n",
       "      <td>0.000000</td>\n",
       "      <td>0.000000</td>\n",
       "    </tr>\n",
       "    <tr>\n",
       "      <th>25%</th>\n",
       "      <td>1.000000</td>\n",
       "      <td>1.000000</td>\n",
       "      <td>2.000000</td>\n",
       "    </tr>\n",
       "    <tr>\n",
       "      <th>50%</th>\n",
       "      <td>4.000000</td>\n",
       "      <td>3.000000</td>\n",
       "      <td>7.000000</td>\n",
       "    </tr>\n",
       "    <tr>\n",
       "      <th>75%</th>\n",
       "      <td>9.750000</td>\n",
       "      <td>6.750000</td>\n",
       "      <td>15.250000</td>\n",
       "    </tr>\n",
       "    <tr>\n",
       "      <th>max</th>\n",
       "      <td>55.000000</td>\n",
       "      <td>62.000000</td>\n",
       "      <td>117.000000</td>\n",
       "    </tr>\n",
       "  </tbody>\n",
       "</table>\n",
       "</div>"
      ],
      "text/plain": [
       "       Pulitzer Prize Winners and Finalists, 1990-2003  \\\n",
       "count                                        50.000000   \n",
       "mean                                          8.340000   \n",
       "std                                          12.886649   \n",
       "min                                           0.000000   \n",
       "25%                                           1.000000   \n",
       "50%                                           4.000000   \n",
       "75%                                           9.750000   \n",
       "max                                          55.000000   \n",
       "\n",
       "       Pulitzer Prize Winners and Finalists, 2004-2014  \\\n",
       "count                                        50.000000   \n",
       "mean                                          6.720000   \n",
       "std                                          12.142084   \n",
       "min                                           0.000000   \n",
       "25%                                           1.000000   \n",
       "50%                                           3.000000   \n",
       "75%                                           6.750000   \n",
       "max                                          62.000000   \n",
       "\n",
       "       Pulitzer Prize Winners and Finalists, 1990-2014  \n",
       "count                                        50.000000  \n",
       "mean                                         15.060000  \n",
       "std                                          24.640609  \n",
       "min                                           0.000000  \n",
       "25%                                           2.000000  \n",
       "50%                                           7.000000  \n",
       "75%                                          15.250000  \n",
       "max                                         117.000000  "
      ]
     },
     "execution_count": 4,
     "metadata": {},
     "output_type": "execute_result"
    }
   ],
   "source": [
    "# take a look at the data\n",
    "pulitzer.describe()"
   ]
  },
  {
   "cell_type": "markdown",
   "metadata": {
    "nbgrader": {
     "grade": false,
     "grade_id": "cell-ddd91a0c61f211ac",
     "locked": true,
     "schema_version": 3,
     "solution": false
    }
   },
   "source": [
    "Okay, so we can see the data here. Each row (observation) contains data about a different newspaper. It looks like we have information from 50 different newspapers. We ultimately want to look at the relationship between number of pulitzers won and readership. We'd like to see this over time, but we may be restricted to just comparing early 2000s with 2013. This is a limitation of the analysis, but a good place to start. Now, it's time to wrangle..."
   ]
  },
  {
   "cell_type": "code",
   "execution_count": 5,
   "metadata": {},
   "outputs": [
    {
     "data": {
      "text/plain": [
       "Newspaper                                          object\n",
       "Daily Circulation, 2004                            object\n",
       "Daily Circulation, 2013                            object\n",
       "Change in Daily Circulation, 2004-2013             object\n",
       "Pulitzer Prize Winners and Finalists, 1990-2003     int64\n",
       "Pulitzer Prize Winners and Finalists, 2004-2014     int64\n",
       "Pulitzer Prize Winners and Finalists, 1990-2014     int64\n",
       "dtype: object"
      ]
     },
     "execution_count": 5,
     "metadata": {},
     "output_type": "execute_result"
    }
   ],
   "source": [
    "# why aren't daily circulation numbers in there?\n",
    "pulitzer.dtypes"
   ]
  },
  {
   "cell_type": "markdown",
   "metadata": {
    "nbgrader": {
     "grade": false,
     "grade_id": "cell-a642afcbb06dd628",
     "locked": true,
     "schema_version": 3,
     "solution": false
    }
   },
   "source": [
    "Ah, so circulation is an object....we want this to be numeric. Let's take care of that! **Convert the three Circulation columns to floats below.** Overwrite the data stored in those three columns (rather than creating any new columns)."
   ]
  },
  {
   "cell_type": "code",
   "execution_count": 6,
   "metadata": {
    "nbgrader": {
     "grade": false,
     "grade_id": "cell-59123be261bd76c6",
     "locked": false,
     "schema_version": 3,
     "solution": true
    }
   },
   "outputs": [],
   "source": [
    "# get rid of the commas in the numbers for Daily Circulation\n",
    "### BEGIN SOLUTION\n",
    "pulitzer['Daily Circulation, 2004'] = pulitzer['Daily Circulation, 2004'].str.replace(',', '').astype(float)\n",
    "pulitzer['Daily Circulation, 2013'] = pulitzer['Daily Circulation, 2013'].str.replace(',', '').astype(float)\n",
    "pulitzer['Change in Daily Circulation, 2004-2013'] = pulitzer['Change in Daily Circulation, 2004-2013'].str.replace('%', '').astype(float)\n",
    "### END SOLUTION"
   ]
  },
  {
   "cell_type": "code",
   "execution_count": 7,
   "metadata": {},
   "outputs": [
    {
     "data": {
      "text/plain": [
       "Newspaper                                           object\n",
       "Daily Circulation, 2004                            float64\n",
       "Daily Circulation, 2013                            float64\n",
       "Change in Daily Circulation, 2004-2013             float64\n",
       "Pulitzer Prize Winners and Finalists, 1990-2003      int64\n",
       "Pulitzer Prize Winners and Finalists, 2004-2014      int64\n",
       "Pulitzer Prize Winners and Finalists, 1990-2014      int64\n",
       "dtype: object"
      ]
     },
     "execution_count": 7,
     "metadata": {},
     "output_type": "execute_result"
    }
   ],
   "source": [
    "# verify that that worked\n",
    "pulitzer.dtypes"
   ]
  },
  {
   "cell_type": "code",
   "execution_count": 8,
   "metadata": {
    "nbgrader": {
     "grade": true,
     "grade_id": "cell-111d2320b442873a",
     "locked": true,
     "points": 0,
     "schema_version": 3,
     "solution": false
    }
   },
   "outputs": [],
   "source": [
    "assert(pulitzer['Daily Circulation, 2004'].dtype == np.float)\n",
    "assert(pulitzer['Daily Circulation, 2013'].dtype == np.float)\n",
    "assert(pulitzer['Change in Daily Circulation, 2004-2013'].dtype == np.float)"
   ]
  },
  {
   "cell_type": "markdown",
   "metadata": {
    "nbgrader": {
     "grade": false,
     "grade_id": "cell-b4da97b6fdc08355",
     "locked": true,
     "schema_version": 3,
     "solution": false
    }
   },
   "source": [
    "# Part II : EDA & Visualization\n",
    "\n",
    "Once you understand your dataset, you'll want to:\n",
    "- understand the relationships and trends for the variables in your dataset\n",
    "- generate exploratory visualizations\n"
   ]
  },
  {
   "cell_type": "code",
   "execution_count": 9,
   "metadata": {
    "nbgrader": {
     "grade": false,
     "grade_id": "cell-534db5706f829313",
     "locked": false,
     "schema_version": 3,
     "solution": true
    }
   },
   "outputs": [
    {
     "data": {
      "text/html": [
       "<div>\n",
       "<style scoped>\n",
       "    .dataframe tbody tr th:only-of-type {\n",
       "        vertical-align: middle;\n",
       "    }\n",
       "\n",
       "    .dataframe tbody tr th {\n",
       "        vertical-align: top;\n",
       "    }\n",
       "\n",
       "    .dataframe thead th {\n",
       "        text-align: right;\n",
       "    }\n",
       "</style>\n",
       "<table border=\"1\" class=\"dataframe\">\n",
       "  <thead>\n",
       "    <tr style=\"text-align: right;\">\n",
       "      <th></th>\n",
       "      <th>Daily Circulation, 2004</th>\n",
       "      <th>Daily Circulation, 2013</th>\n",
       "      <th>Change in Daily Circulation, 2004-2013</th>\n",
       "      <th>Pulitzer Prize Winners and Finalists, 1990-2003</th>\n",
       "      <th>Pulitzer Prize Winners and Finalists, 2004-2014</th>\n",
       "      <th>Pulitzer Prize Winners and Finalists, 1990-2014</th>\n",
       "    </tr>\n",
       "  </thead>\n",
       "  <tbody>\n",
       "    <tr>\n",
       "      <th>count</th>\n",
       "      <td>5.000000e+01</td>\n",
       "      <td>5.000000e+01</td>\n",
       "      <td>50.000000</td>\n",
       "      <td>50.000000</td>\n",
       "      <td>50.000000</td>\n",
       "      <td>50.000000</td>\n",
       "    </tr>\n",
       "    <tr>\n",
       "      <th>mean</th>\n",
       "      <td>4.624217e+05</td>\n",
       "      <td>3.624628e+05</td>\n",
       "      <td>-29.200000</td>\n",
       "      <td>8.340000</td>\n",
       "      <td>6.720000</td>\n",
       "      <td>15.060000</td>\n",
       "    </tr>\n",
       "    <tr>\n",
       "      <th>std</th>\n",
       "      <td>3.965849e+05</td>\n",
       "      <td>4.404812e+05</td>\n",
       "      <td>27.066811</td>\n",
       "      <td>12.886649</td>\n",
       "      <td>12.142084</td>\n",
       "      <td>24.640609</td>\n",
       "    </tr>\n",
       "    <tr>\n",
       "      <th>min</th>\n",
       "      <td>2.157350e+05</td>\n",
       "      <td>0.000000e+00</td>\n",
       "      <td>-100.000000</td>\n",
       "      <td>0.000000</td>\n",
       "      <td>0.000000</td>\n",
       "      <td>0.000000</td>\n",
       "    </tr>\n",
       "    <tr>\n",
       "      <th>25%</th>\n",
       "      <td>2.598472e+05</td>\n",
       "      <td>1.617345e+05</td>\n",
       "      <td>-40.750000</td>\n",
       "      <td>1.000000</td>\n",
       "      <td>1.000000</td>\n",
       "      <td>2.000000</td>\n",
       "    </tr>\n",
       "    <tr>\n",
       "      <th>50%</th>\n",
       "      <td>3.400875e+05</td>\n",
       "      <td>2.293365e+05</td>\n",
       "      <td>-32.500000</td>\n",
       "      <td>4.000000</td>\n",
       "      <td>3.000000</td>\n",
       "      <td>7.000000</td>\n",
       "    </tr>\n",
       "    <tr>\n",
       "      <th>75%</th>\n",
       "      <td>4.909875e+05</td>\n",
       "      <td>3.733708e+05</td>\n",
       "      <td>-20.000000</td>\n",
       "      <td>9.750000</td>\n",
       "      <td>6.750000</td>\n",
       "      <td>15.250000</td>\n",
       "    </tr>\n",
       "    <tr>\n",
       "      <th>max</th>\n",
       "      <td>2.192098e+06</td>\n",
       "      <td>2.378827e+06</td>\n",
       "      <td>67.000000</td>\n",
       "      <td>55.000000</td>\n",
       "      <td>62.000000</td>\n",
       "      <td>117.000000</td>\n",
       "    </tr>\n",
       "  </tbody>\n",
       "</table>\n",
       "</div>"
      ],
      "text/plain": [
       "       Daily Circulation, 2004  Daily Circulation, 2013  \\\n",
       "count             5.000000e+01             5.000000e+01   \n",
       "mean              4.624217e+05             3.624628e+05   \n",
       "std               3.965849e+05             4.404812e+05   \n",
       "min               2.157350e+05             0.000000e+00   \n",
       "25%               2.598472e+05             1.617345e+05   \n",
       "50%               3.400875e+05             2.293365e+05   \n",
       "75%               4.909875e+05             3.733708e+05   \n",
       "max               2.192098e+06             2.378827e+06   \n",
       "\n",
       "       Change in Daily Circulation, 2004-2013  \\\n",
       "count                               50.000000   \n",
       "mean                               -29.200000   \n",
       "std                                 27.066811   \n",
       "min                               -100.000000   \n",
       "25%                                -40.750000   \n",
       "50%                                -32.500000   \n",
       "75%                                -20.000000   \n",
       "max                                 67.000000   \n",
       "\n",
       "       Pulitzer Prize Winners and Finalists, 1990-2003  \\\n",
       "count                                        50.000000   \n",
       "mean                                          8.340000   \n",
       "std                                          12.886649   \n",
       "min                                           0.000000   \n",
       "25%                                           1.000000   \n",
       "50%                                           4.000000   \n",
       "75%                                           9.750000   \n",
       "max                                          55.000000   \n",
       "\n",
       "       Pulitzer Prize Winners and Finalists, 2004-2014  \\\n",
       "count                                        50.000000   \n",
       "mean                                          6.720000   \n",
       "std                                          12.142084   \n",
       "min                                           0.000000   \n",
       "25%                                           1.000000   \n",
       "50%                                           3.000000   \n",
       "75%                                           6.750000   \n",
       "max                                          62.000000   \n",
       "\n",
       "       Pulitzer Prize Winners and Finalists, 1990-2014  \n",
       "count                                        50.000000  \n",
       "mean                                         15.060000  \n",
       "std                                          24.640609  \n",
       "min                                           0.000000  \n",
       "25%                                           2.000000  \n",
       "50%                                           7.000000  \n",
       "75%                                          15.250000  \n",
       "max                                         117.000000  "
      ]
     },
     "execution_count": 9,
     "metadata": {},
     "output_type": "execute_result"
    }
   ],
   "source": [
    "# take a look at some descriptive statistics\n",
    "### BEGIN SOLUTION\n",
    "pulitzer.describe()\n",
    "### END SOLUTION"
   ]
  },
  {
   "cell_type": "markdown",
   "metadata": {
    "nbgrader": {
     "grade": false,
     "grade_id": "cell-f5063a8aa89b47ed",
     "locked": true,
     "schema_version": 3,
     "solution": false
    }
   },
   "source": [
    "Here we see that the mean daily circulation decreased from 2004 to 2013. This is in line with what we may expect, given reports that newspaper readership is decreasing in the age of the Internet. But, we also see that there is a fair amount of variability. This also makes sense, as some newspapers are much more popular than others. \n",
    "\n",
    "The change in daily circulation is important as well and we see that this number is negative, thus capturing the overall downward trend we expected in readership over this time period.\n",
    "\n",
    "When we start to consider Pulitzter Prize winners we see that the mean number has varied from 8.3 in 1990-2003 to 6.7 in 2004-2014. We note that the final column combines these data across the time period of 1990-2014. \n",
    "\n",
    "Let's generate some plots to understand the overall distribution. Generate the plot you think best first the comments provided below"
   ]
  },
  {
   "cell_type": "code",
   "execution_count": 10,
   "metadata": {
    "nbgrader": {
     "grade": false,
     "grade_id": "cell-66ea5a82c36a7937",
     "locked": false,
     "schema_version": 3,
     "solution": true
    }
   },
   "outputs": [
    {
     "name": "stderr",
     "output_type": "stream",
     "text": [
      "/anaconda3/envs/cogs18/lib/python3.7/site-packages/seaborn/distributions.py:2551: FutureWarning: `distplot` is a deprecated function and will be removed in a future version. Please adapt your code to use either `displot` (a figure-level function with similar flexibility) or `histplot` (an axes-level function for histograms).\n",
      "  warnings.warn(msg, FutureWarning)\n"
     ]
    },
    {
     "data": {
      "image/png": "[encoded data removed]",
      "text/plain": [
       "<Figure size 1224x504 with 2 Axes>"
      ]
     },
     "metadata": {},
     "output_type": "display_data"
    }
   ],
   "source": [
    "## look at daily circulation distribution in 2004 and in 2013\n",
    "### BEGIN SOLUTION\n",
    "fig, (ax1, ax2) = plt.subplots(ncols=2, sharey=True)\n",
    "sns.distplot(pulitzer['Daily Circulation, 2004'], ax=ax1,  kde=False, bins=30, color=\"dimgrey\")\n",
    "ax1.set_title('Daily Circulation, 2004')\n",
    "ax1.set_xlabel('')\n",
    "sns.distplot(pulitzer['Daily Circulation, 2013'], ax=ax2, kde=False, bins=30, color=\"dimgrey\")\n",
    "ax2.set_title('Daily Circulation, 2013')\n",
    "ax2.set_xlabel('');\n",
    "### END SOLUTION"
   ]
  },
  {
   "cell_type": "markdown",
   "metadata": {
    "nbgrader": {
     "grade": false,
     "grade_id": "cell-e258d5961caa6372",
     "locked": true,
     "schema_version": 3,
     "solution": false
    }
   },
   "source": [
    "You should see that most newspapers have smaller readership bases, with a few outlier newspapers. Now, let's look at the distribution of Pulitzter prize winners for the same time period."
   ]
  },
  {
   "cell_type": "code",
   "execution_count": 11,
   "metadata": {
    "nbgrader": {
     "grade": false,
     "grade_id": "cell-16c19faf220f24e4",
     "locked": false,
     "schema_version": 3,
     "solution": true
    },
    "scrolled": true
   },
   "outputs": [
    {
     "data": {
      "image/png": "[encoded data removed]",
      "text/plain": [
       "<Figure size 1224x504 with 2 Axes>"
      ]
     },
     "metadata": {},
     "output_type": "display_data"
    }
   ],
   "source": [
    "## look at pulitzer prize winner distributions\n",
    "### BEGIN SOLUTION\n",
    "fig, (ax1, ax2) = plt.subplots(ncols=2, sharey=True)\n",
    "fig.suptitle('Pulitzer Prize Winners and Finalists')\n",
    "sns.distplot(pulitzer['Pulitzer Prize Winners and Finalists, 1990-2003'], ax=ax1,  kde=False, bins=30, color=\"dimgrey\")\n",
    "ax1.set_xlabel('1990-2003')\n",
    "ax1.set_ylabel('Number of Papers')\n",
    "sns.distplot(pulitzer['Pulitzer Prize Winners and Finalists, 2004-2014'], ax=ax2,  kde=False, bins=30, color=\"dimgrey\")\n",
    "ax2.set_xlabel('2004-2014');\n",
    "### END SOLUTION"
   ]
  },
  {
   "cell_type": "markdown",
   "metadata": {
    "nbgrader": {
     "grade": false,
     "grade_id": "cell-cc6a3a2e74a76dc5",
     "locked": true,
     "schema_version": 3,
     "solution": false
    }
   },
   "source": [
    "Here, you should see that over the two time periods of interest the distributions look similar, although we note that we are only looking at the histogram for 50 newspapers, so our observations are limited. Nevertheless, most of the data clusters around 0, with ony a few newspapers receiving more than 20 pulitzers over the time periods we're interested in. These data are clearly not Normally distributed, but are skewed right...something we'll want to keep in mind when we analyze these data."
   ]
  },
  {
   "cell_type": "code",
   "execution_count": 12,
   "metadata": {
    "nbgrader": {
     "grade": false,
     "grade_id": "cell-a848ec43fe9792a3",
     "locked": false,
     "schema_version": 3,
     "solution": true
    },
    "scrolled": true
   },
   "outputs": [
    {
     "data": {
      "image/png": "[encoded data removed]",
      "text/plain": [
       "<Figure size 1224x504 with 1 Axes>"
      ]
     },
     "metadata": {},
     "output_type": "display_data"
    }
   ],
   "source": [
    "# plot the distribution of *change* in daily circulation\n",
    "### BEGIN SOLUTION\n",
    "sns.distplot(pulitzer['Change in Daily Circulation, 2004-2013'],  kde=False, bins=30, color=\"dimgrey\");\n",
    "### END SOLUTION\n"
   ]
  },
  {
   "cell_type": "markdown",
   "metadata": {
    "nbgrader": {
     "grade": false,
     "grade_id": "cell-341307ec929cef59",
     "locked": true,
     "schema_version": 3,
     "solution": false
    }
   },
   "source": [
    "Here we see our final univariate plot of interest. You should now see that while there is an overall downward trend in daily circulation (mean ~ -25), there are papers whose readership has increased. That outlier to the right, let's check out which paper that is..."
   ]
  },
  {
   "cell_type": "code",
   "execution_count": 13,
   "metadata": {
    "nbgrader": {
     "grade": false,
     "grade_id": "cell-b604452cc25caea8",
     "locked": false,
     "schema_version": 3,
     "solution": true
    },
    "scrolled": true
   },
   "outputs": [
    {
     "data": {
      "text/html": [
       "<div>\n",
       "<style scoped>\n",
       "    .dataframe tbody tr th:only-of-type {\n",
       "        vertical-align: middle;\n",
       "    }\n",
       "\n",
       "    .dataframe tbody tr th {\n",
       "        vertical-align: top;\n",
       "    }\n",
       "\n",
       "    .dataframe thead th {\n",
       "        text-align: right;\n",
       "    }\n",
       "</style>\n",
       "<table border=\"1\" class=\"dataframe\">\n",
       "  <thead>\n",
       "    <tr style=\"text-align: right;\">\n",
       "      <th></th>\n",
       "      <th>Newspaper</th>\n",
       "      <th>Daily Circulation, 2004</th>\n",
       "      <th>Daily Circulation, 2013</th>\n",
       "      <th>Change in Daily Circulation, 2004-2013</th>\n",
       "      <th>Pulitzer Prize Winners and Finalists, 1990-2003</th>\n",
       "      <th>Pulitzer Prize Winners and Finalists, 2004-2014</th>\n",
       "      <th>Pulitzer Prize Winners and Finalists, 1990-2014</th>\n",
       "    </tr>\n",
       "  </thead>\n",
       "  <tbody>\n",
       "    <tr>\n",
       "      <th>2</th>\n",
       "      <td>New York Times</td>\n",
       "      <td>1119027.0</td>\n",
       "      <td>1865318.0</td>\n",
       "      <td>67.0</td>\n",
       "      <td>55</td>\n",
       "      <td>62</td>\n",
       "      <td>117</td>\n",
       "    </tr>\n",
       "  </tbody>\n",
       "</table>\n",
       "</div>"
      ],
      "text/plain": [
       "        Newspaper  Daily Circulation, 2004  Daily Circulation, 2013  \\\n",
       "2  New York Times                1119027.0                1865318.0   \n",
       "\n",
       "   Change in Daily Circulation, 2004-2013  \\\n",
       "2                                    67.0   \n",
       "\n",
       "   Pulitzer Prize Winners and Finalists, 1990-2003  \\\n",
       "2                                               55   \n",
       "\n",
       "   Pulitzer Prize Winners and Finalists, 2004-2014  \\\n",
       "2                                               62   \n",
       "\n",
       "   Pulitzer Prize Winners and Finalists, 1990-2014  \n",
       "2                                              117  "
      ]
     },
     "execution_count": 13,
     "metadata": {},
     "output_type": "execute_result"
    }
   ],
   "source": [
    "# determine which paper has a positive change in circulation much larger than other papers\n",
    "### BEGIN SOLUTION\n",
    "pulitzer[pulitzer['Change in Daily Circulation, 2004-2013'] > 30] \n",
    "### END SOLUTION"
   ]
  },
  {
   "cell_type": "markdown",
   "metadata": {
    "nbgrader": {
     "grade": false,
     "grade_id": "cell-02307dfa532ce0f5",
     "locked": true,
     "schema_version": 3,
     "solution": false
    }
   },
   "source": [
    "The paper you see above should make enough sense with your intution about popular publications. \n",
    "\n",
    "We also note that two newspapers have a -100 change in daily circulation. This is an interesting data point and something we want to investigate further. What's going on here? **Determine below which papers have -100 change in circulation.**"
   ]
  },
  {
   "cell_type": "code",
   "execution_count": 14,
   "metadata": {
    "nbgrader": {
     "grade": false,
     "grade_id": "cell-01cd489a7fd41f9f",
     "locked": false,
     "schema_version": 3,
     "solution": true
    },
    "scrolled": true
   },
   "outputs": [
    {
     "data": {
      "text/html": [
       "<div>\n",
       "<style scoped>\n",
       "    .dataframe tbody tr th:only-of-type {\n",
       "        vertical-align: middle;\n",
       "    }\n",
       "\n",
       "    .dataframe tbody tr th {\n",
       "        vertical-align: top;\n",
       "    }\n",
       "\n",
       "    .dataframe thead th {\n",
       "        text-align: right;\n",
       "    }\n",
       "</style>\n",
       "<table border=\"1\" class=\"dataframe\">\n",
       "  <thead>\n",
       "    <tr style=\"text-align: right;\">\n",
       "      <th></th>\n",
       "      <th>Newspaper</th>\n",
       "      <th>Daily Circulation, 2004</th>\n",
       "      <th>Daily Circulation, 2013</th>\n",
       "      <th>Change in Daily Circulation, 2004-2013</th>\n",
       "      <th>Pulitzer Prize Winners and Finalists, 1990-2003</th>\n",
       "      <th>Pulitzer Prize Winners and Finalists, 2004-2014</th>\n",
       "      <th>Pulitzer Prize Winners and Finalists, 1990-2014</th>\n",
       "    </tr>\n",
       "  </thead>\n",
       "  <tbody>\n",
       "    <tr>\n",
       "      <th>25</th>\n",
       "      <td>Rocky Mountain News</td>\n",
       "      <td>340007.0</td>\n",
       "      <td>0.0</td>\n",
       "      <td>-100.0</td>\n",
       "      <td>4</td>\n",
       "      <td>1</td>\n",
       "      <td>5</td>\n",
       "    </tr>\n",
       "    <tr>\n",
       "      <th>36</th>\n",
       "      <td>New Orleans Times-Picayune</td>\n",
       "      <td>262008.0</td>\n",
       "      <td>0.0</td>\n",
       "      <td>-100.0</td>\n",
       "      <td>5</td>\n",
       "      <td>3</td>\n",
       "      <td>8</td>\n",
       "    </tr>\n",
       "  </tbody>\n",
       "</table>\n",
       "</div>"
      ],
      "text/plain": [
       "                     Newspaper  Daily Circulation, 2004  \\\n",
       "25         Rocky Mountain News                 340007.0   \n",
       "36  New Orleans Times-Picayune                 262008.0   \n",
       "\n",
       "    Daily Circulation, 2013  Change in Daily Circulation, 2004-2013  \\\n",
       "25                      0.0                                  -100.0   \n",
       "36                      0.0                                  -100.0   \n",
       "\n",
       "    Pulitzer Prize Winners and Finalists, 1990-2003  \\\n",
       "25                                                4   \n",
       "36                                                5   \n",
       "\n",
       "    Pulitzer Prize Winners and Finalists, 2004-2014  \\\n",
       "25                                                1   \n",
       "36                                                3   \n",
       "\n",
       "    Pulitzer Prize Winners and Finalists, 1990-2014  \n",
       "25                                                5  \n",
       "36                                                8  "
      ]
     },
     "execution_count": 14,
     "metadata": {},
     "output_type": "execute_result"
    }
   ],
   "source": [
    "# determine really large daily negative change in circulation\n",
    "### BEGIN SOLUTION\n",
    "pulitzer[pulitzer['Change in Daily Circulation, 2004-2013'] <= -100]\n",
    "### END SOLUTION"
   ]
  },
  {
   "cell_type": "markdown",
   "metadata": {
    "nbgrader": {
     "grade": false,
     "grade_id": "cell-c0892c7b39c6cd21",
     "locked": true,
     "schema_version": 3,
     "solution": false
    }
   },
   "source": [
    "If we Google these papers we see that [Rocky Mountain News closed its doors in 2009](https://en.wikipedia.org/wiki/Rocky_Mountain_News). It makes sense that the readership decreased by -100 there. Now, what about New Orleans Times-Picayune? They [still have a website](https://www.nola.com/), so closure is not the same case here. When we dig a little deeper we see that [it is no longer published daily](https://en.wikipedia.org/wiki/The_Times-Picayune), explaining daily circulation having a measure of -100. We'll have to consider how to handle these data points. "
   ]
  },
  {
   "cell_type": "markdown",
   "metadata": {
    "nbgrader": {
     "grade": false,
     "grade_id": "cell-a4559388cf464871",
     "locked": true,
     "schema_version": 3,
     "solution": false
    }
   },
   "source": [
    "With that understanding of the readership numbers in our dataset, we'll continue our EDA to get a more specific understanding of the Pulitzer portion of the data. We now want to answer these questions before moving forward: \n",
    "\n",
    "1. What's a typical number of Pulitzers? What's that distribution look like?\n",
    "1. Have the same newspapers consistently won more Pulitzers? \n",
    "2. Who has won the most Pulitzers? \n",
    "3. Anything look off?\n",
    "\n",
    "**Generate the plots specified below, inspecting/understanding the output in each case.**"
   ]
  },
  {
   "cell_type": "code",
   "execution_count": 15,
   "metadata": {
    "nbgrader": {
     "grade": false,
     "grade_id": "cell-871c7ad90de9778f",
     "locked": false,
     "schema_version": 3,
     "solution": true
    },
    "scrolled": true
   },
   "outputs": [
    {
     "name": "stderr",
     "output_type": "stream",
     "text": [
      "/anaconda3/envs/cogs18/lib/python3.7/site-packages/seaborn/distributions.py:2551: FutureWarning: `distplot` is a deprecated function and will be removed in a future version. Please adapt your code to use either `displot` (a figure-level function with similar flexibility) or `histplot` (an axes-level function for histograms).\n",
      "  warnings.warn(msg, FutureWarning)\n"
     ]
    },
    {
     "data": {
      "image/png": "[encoded data removed]",
      "text/plain": [
       "<Figure size 1224x504 with 1 Axes>"
      ]
     },
     "metadata": {},
     "output_type": "display_data"
    }
   ],
   "source": [
    "## look at pulitzer prize winner distributions\n",
    "### BEGIN SOLUTION\n",
    "sns.distplot(pulitzer['Pulitzer Prize Winners and Finalists, 1990-2014'],  kde=False, bins=30, color=\"dimgrey\")\n",
    "ax1.set_xlabel('1990-2014')\n",
    "ax1.set_ylabel('Number of Papers');\n",
    "### END SOLUTION"
   ]
  },
  {
   "cell_type": "markdown",
   "metadata": {
    "nbgrader": {
     "grade": false,
     "grade_id": "cell-c06d27052c18d8ba",
     "locked": true,
     "schema_version": 3,
     "solution": false
    }
   },
   "source": [
    "Here you should see a distribution skewed right, with most publications receiving few awards and a few publications getting many more."
   ]
  },
  {
   "cell_type": "code",
   "execution_count": 16,
   "metadata": {
    "nbgrader": {
     "grade": false,
     "grade_id": "cell-4a001e9a81ba4eec",
     "locked": false,
     "schema_version": 3,
     "solution": true
    },
    "scrolled": false
   },
   "outputs": [
    {
     "data": {
      "text/html": [
       "<div>\n",
       "<style scoped>\n",
       "    .dataframe tbody tr th:only-of-type {\n",
       "        vertical-align: middle;\n",
       "    }\n",
       "\n",
       "    .dataframe tbody tr th {\n",
       "        vertical-align: top;\n",
       "    }\n",
       "\n",
       "    .dataframe thead th {\n",
       "        text-align: right;\n",
       "    }\n",
       "</style>\n",
       "<table border=\"1\" class=\"dataframe\">\n",
       "  <thead>\n",
       "    <tr style=\"text-align: right;\">\n",
       "      <th></th>\n",
       "      <th>Newspaper</th>\n",
       "      <th>Daily Circulation, 2004</th>\n",
       "      <th>Daily Circulation, 2013</th>\n",
       "      <th>Change in Daily Circulation, 2004-2013</th>\n",
       "      <th>Pulitzer Prize Winners and Finalists, 1990-2003</th>\n",
       "      <th>Pulitzer Prize Winners and Finalists, 2004-2014</th>\n",
       "      <th>Pulitzer Prize Winners and Finalists, 1990-2014</th>\n",
       "    </tr>\n",
       "  </thead>\n",
       "  <tbody>\n",
       "    <tr>\n",
       "      <th>2</th>\n",
       "      <td>New York Times</td>\n",
       "      <td>1119027.0</td>\n",
       "      <td>1865318.0</td>\n",
       "      <td>67.0</td>\n",
       "      <td>55</td>\n",
       "      <td>62</td>\n",
       "      <td>117</td>\n",
       "    </tr>\n",
       "    <tr>\n",
       "      <th>3</th>\n",
       "      <td>Los Angeles Times</td>\n",
       "      <td>983727.0</td>\n",
       "      <td>653868.0</td>\n",
       "      <td>-34.0</td>\n",
       "      <td>44</td>\n",
       "      <td>41</td>\n",
       "      <td>85</td>\n",
       "    </tr>\n",
       "    <tr>\n",
       "      <th>4</th>\n",
       "      <td>Washington Post</td>\n",
       "      <td>760034.0</td>\n",
       "      <td>474767.0</td>\n",
       "      <td>-38.0</td>\n",
       "      <td>52</td>\n",
       "      <td>48</td>\n",
       "      <td>100</td>\n",
       "    </tr>\n",
       "  </tbody>\n",
       "</table>\n",
       "</div>"
      ],
      "text/plain": [
       "           Newspaper  Daily Circulation, 2004  Daily Circulation, 2013  \\\n",
       "2     New York Times                1119027.0                1865318.0   \n",
       "3  Los Angeles Times                 983727.0                 653868.0   \n",
       "4    Washington Post                 760034.0                 474767.0   \n",
       "\n",
       "   Change in Daily Circulation, 2004-2013  \\\n",
       "2                                    67.0   \n",
       "3                                   -34.0   \n",
       "4                                   -38.0   \n",
       "\n",
       "   Pulitzer Prize Winners and Finalists, 1990-2003  \\\n",
       "2                                               55   \n",
       "3                                               44   \n",
       "4                                               52   \n",
       "\n",
       "   Pulitzer Prize Winners and Finalists, 2004-2014  \\\n",
       "2                                               62   \n",
       "3                                               41   \n",
       "4                                               48   \n",
       "\n",
       "   Pulitzer Prize Winners and Finalists, 1990-2014  \n",
       "2                                              117  \n",
       "3                                               85  \n",
       "4                                              100  "
      ]
     },
     "execution_count": 16,
     "metadata": {},
     "output_type": "execute_result"
    }
   ],
   "source": [
    "# determine which publications won a whole bunch of Pulitzers (>80)\n",
    "### BEGIN SOLUTION\n",
    "pulitzer[pulitzer['Pulitzer Prize Winners and Finalists, 1990-2014'] > 80]\n",
    "### END SOLUTION"
   ]
  },
  {
   "cell_type": "markdown",
   "metadata": {
    "nbgrader": {
     "grade": false,
     "grade_id": "cell-12f1e08f4494db19",
     "locked": true,
     "schema_version": 3,
     "solution": false
    }
   },
   "source": [
    "Above you should see here that these three publications earned the most overall, and the most in each of the time periods specified. They've been around a while and have been the most successful at winning Pulitzers. Let's see that trend overall across all papers in our dataset.\n",
    "\n",
    "**Look at the trend of Pulitzer Prize winners 1990-2003 compared with 2004-2014 to determine if papers have similar trend over time.**"
   ]
  },
  {
   "cell_type": "code",
   "execution_count": 17,
   "metadata": {
    "nbgrader": {
     "grade": false,
     "grade_id": "cell-1b508a07589edfcc",
     "locked": false,
     "schema_version": 3,
     "solution": true
    }
   },
   "outputs": [
    {
     "data": {
      "image/png": "[encoded data removed]",
      "text/plain": [
       "<Figure size 864x432 with 1 Axes>"
      ]
     },
     "metadata": {},
     "output_type": "display_data"
    }
   ],
   "source": [
    "# use fivethirtyeight style\n",
    "# mostly for fun ; data are from them\n",
    "style.use('fivethirtyeight') \n",
    "\n",
    "# plot relationship between pulitzer prize winners/finalists in each time period\n",
    "### BEGIN SOLUTION\n",
    "# look at number of pulitzers between two time periods\n",
    "sns.lmplot(x = 'Pulitzer Prize Winners and Finalists, 1990-2003',\n",
    "           y = 'Pulitzer Prize Winners and Finalists, 2004-2014',\n",
    "           data = pulitzer, \n",
    "           fit_reg = False, \n",
    "           height = 6, \n",
    "           aspect=2)\n",
    "plt.xlabel('1990-2003')\n",
    "plt.ylabel('2004-2014')\n",
    "plt.title('Pulitzer Prize Winners and Finalists');\n",
    "### END SOLUTION"
   ]
  },
  {
   "cell_type": "markdown",
   "metadata": {
    "nbgrader": {
     "grade": false,
     "grade_id": "cell-c52290dade03d343",
     "locked": true,
     "schema_version": 3,
     "solution": false
    }
   },
   "source": [
    "Ok, so generally here you should see the same papers winning the most Pulitzers in the 90's are the same as those winning those in the 2000s."
   ]
  },
  {
   "cell_type": "code",
   "execution_count": 18,
   "metadata": {
    "nbgrader": {
     "grade": false,
     "grade_id": "cell-71a02d011475713b",
     "locked": false,
     "schema_version": 3,
     "solution": true
    }
   },
   "outputs": [
    {
     "data": {
      "text/html": [
       "<div>\n",
       "<style scoped>\n",
       "    .dataframe tbody tr th:only-of-type {\n",
       "        vertical-align: middle;\n",
       "    }\n",
       "\n",
       "    .dataframe tbody tr th {\n",
       "        vertical-align: top;\n",
       "    }\n",
       "\n",
       "    .dataframe thead th {\n",
       "        text-align: right;\n",
       "    }\n",
       "</style>\n",
       "<table border=\"1\" class=\"dataframe\">\n",
       "  <thead>\n",
       "    <tr style=\"text-align: right;\">\n",
       "      <th></th>\n",
       "      <th>Newspaper</th>\n",
       "      <th>Daily Circulation, 2004</th>\n",
       "      <th>Daily Circulation, 2013</th>\n",
       "      <th>Change in Daily Circulation, 2004-2013</th>\n",
       "      <th>Pulitzer Prize Winners and Finalists, 1990-2003</th>\n",
       "      <th>Pulitzer Prize Winners and Finalists, 2004-2014</th>\n",
       "      <th>Pulitzer Prize Winners and Finalists, 1990-2014</th>\n",
       "    </tr>\n",
       "  </thead>\n",
       "  <tbody>\n",
       "    <tr>\n",
       "      <th>2</th>\n",
       "      <td>New York Times</td>\n",
       "      <td>1119027.0</td>\n",
       "      <td>1865318.0</td>\n",
       "      <td>67.0</td>\n",
       "      <td>55</td>\n",
       "      <td>62</td>\n",
       "      <td>117</td>\n",
       "    </tr>\n",
       "    <tr>\n",
       "      <th>4</th>\n",
       "      <td>Washington Post</td>\n",
       "      <td>760034.0</td>\n",
       "      <td>474767.0</td>\n",
       "      <td>-38.0</td>\n",
       "      <td>52</td>\n",
       "      <td>48</td>\n",
       "      <td>100</td>\n",
       "    </tr>\n",
       "    <tr>\n",
       "      <th>3</th>\n",
       "      <td>Los Angeles Times</td>\n",
       "      <td>983727.0</td>\n",
       "      <td>653868.0</td>\n",
       "      <td>-34.0</td>\n",
       "      <td>44</td>\n",
       "      <td>41</td>\n",
       "      <td>85</td>\n",
       "    </tr>\n",
       "    <tr>\n",
       "      <th>1</th>\n",
       "      <td>Wall Street Journal</td>\n",
       "      <td>2101017.0</td>\n",
       "      <td>2378827.0</td>\n",
       "      <td>13.0</td>\n",
       "      <td>30</td>\n",
       "      <td>20</td>\n",
       "      <td>50</td>\n",
       "    </tr>\n",
       "    <tr>\n",
       "      <th>15</th>\n",
       "      <td>Boston Globe</td>\n",
       "      <td>446241.0</td>\n",
       "      <td>245572.0</td>\n",
       "      <td>-45.0</td>\n",
       "      <td>25</td>\n",
       "      <td>16</td>\n",
       "      <td>41</td>\n",
       "    </tr>\n",
       "  </tbody>\n",
       "</table>\n",
       "</div>"
      ],
      "text/plain": [
       "              Newspaper  Daily Circulation, 2004  Daily Circulation, 2013  \\\n",
       "2        New York Times                1119027.0                1865318.0   \n",
       "4       Washington Post                 760034.0                 474767.0   \n",
       "3     Los Angeles Times                 983727.0                 653868.0   \n",
       "1   Wall Street Journal                2101017.0                2378827.0   \n",
       "15         Boston Globe                 446241.0                 245572.0   \n",
       "\n",
       "    Change in Daily Circulation, 2004-2013  \\\n",
       "2                                     67.0   \n",
       "4                                    -38.0   \n",
       "3                                    -34.0   \n",
       "1                                     13.0   \n",
       "15                                   -45.0   \n",
       "\n",
       "    Pulitzer Prize Winners and Finalists, 1990-2003  \\\n",
       "2                                                55   \n",
       "4                                                52   \n",
       "3                                                44   \n",
       "1                                                30   \n",
       "15                                               25   \n",
       "\n",
       "    Pulitzer Prize Winners and Finalists, 2004-2014  \\\n",
       "2                                                62   \n",
       "4                                                48   \n",
       "3                                                41   \n",
       "1                                                20   \n",
       "15                                               16   \n",
       "\n",
       "    Pulitzer Prize Winners and Finalists, 1990-2014  \n",
       "2                                               117  \n",
       "4                                               100  \n",
       "3                                                85  \n",
       "1                                                50  \n",
       "15                                               41  "
      ]
     },
     "execution_count": 18,
     "metadata": {},
     "output_type": "execute_result"
    }
   ],
   "source": [
    "# who has won the most pulitzers during the years we're looking at? \n",
    "### BEGIN SOLUTION\n",
    "pulitzer.sort_values('Pulitzer Prize Winners and Finalists, 1990-2014', ascending = False).head()\n",
    "### END SOLUTION"
   ]
  },
  {
   "cell_type": "markdown",
   "metadata": {
    "nbgrader": {
     "grade": false,
     "grade_id": "cell-04e27179bac929ff",
     "locked": true,
     "schema_version": 3,
     "solution": false
    }
   },
   "source": [
    "As we saw above, these papers should like come to mind as some of the most popular papers nationally, so there are no huge surprises here. The number of Puitzers is relatively consistent across the two time periods."
   ]
  },
  {
   "cell_type": "markdown",
   "metadata": {
    "nbgrader": {
     "grade": false,
     "grade_id": "cell-721d09d04a442f79",
     "locked": true,
     "schema_version": 3,
     "solution": false
    }
   },
   "source": [
    "Before we carry out our analysis, we're going to **remove the papers no longer in daily circulation from our analysis, as their data won't accurately reflect the relationship. Store this output in `pulitzer` again.**"
   ]
  },
  {
   "cell_type": "code",
   "execution_count": 19,
   "metadata": {
    "nbgrader": {
     "grade": false,
     "grade_id": "cell-b47b98ab3b40e3bd",
     "locked": false,
     "schema_version": 3,
     "solution": true
    }
   },
   "outputs": [],
   "source": [
    "# filter out two non daily-circulation papers.\n",
    "### BEGIN SOLUTION\n",
    "pulitzer = pulitzer[pulitzer['Change in Daily Circulation, 2004-2013'] > -75]\n",
    "### END SOLUTION"
   ]
  },
  {
   "cell_type": "code",
   "execution_count": 20,
   "metadata": {
    "nbgrader": {
     "grade": true,
     "grade_id": "cell-69a1b81fa0bb1c07",
     "locked": true,
     "points": 0,
     "schema_version": 3,
     "solution": false
    }
   },
   "outputs": [],
   "source": [
    "assert pulitzer.shape == (48, 7)"
   ]
  },
  {
   "cell_type": "markdown",
   "metadata": {
    "nbgrader": {
     "grade": false,
     "grade_id": "cell-995c27bcac5ca29b",
     "locked": true,
     "schema_version": 3,
     "solution": false
    }
   },
   "source": [
    "**Let's take a look at the change in daily cirulation after removing these outliers.**"
   ]
  },
  {
   "cell_type": "code",
   "execution_count": 21,
   "metadata": {
    "nbgrader": {
     "grade": false,
     "grade_id": "cell-16fb6a241f3d8536",
     "locked": false,
     "schema_version": 3,
     "solution": true
    }
   },
   "outputs": [
    {
     "name": "stderr",
     "output_type": "stream",
     "text": [
      "/anaconda3/envs/cogs18/lib/python3.7/site-packages/seaborn/distributions.py:2551: FutureWarning: `distplot` is a deprecated function and will be removed in a future version. Please adapt your code to use either `displot` (a figure-level function with similar flexibility) or `histplot` (an axes-level function for histograms).\n",
      "  warnings.warn(msg, FutureWarning)\n"
     ]
    },
    {
     "data": {
      "image/png": "[encoded data removed]",
      "text/plain": [
       "<Figure size 1224x504 with 1 Axes>"
      ]
     },
     "metadata": {},
     "output_type": "display_data"
    }
   ],
   "source": [
    "# plot the distribution of daily change in circulation after outlier removal\n",
    "### BEGIN SOLUTION\n",
    "sns.distplot(pulitzer['Change in Daily Circulation, 2004-2013'], bins=30, color=\"dimgrey\");\n",
    "### END SOLUTION"
   ]
  },
  {
   "cell_type": "markdown",
   "metadata": {
    "nbgrader": {
     "grade": false,
     "grade_id": "cell-04cfe43eb27cbf14",
     "locked": true,
     "schema_version": 3,
     "solution": false
    }
   },
   "source": [
    "Now, after removing those two papers, if you look at daily circulation, the data are closer to normally distributed, but we note there are still papers that are outliers at the high end of circulation papers. "
   ]
  },
  {
   "cell_type": "markdown",
   "metadata": {
    "nbgrader": {
     "grade": false,
     "grade_id": "cell-b7f262e76b062ac7",
     "locked": true,
     "schema_version": 3,
     "solution": false
    }
   },
   "source": [
    "# Part III : Inferential Analysis\n",
    "\n",
    "Finally, answer the question! Carry out the inferential analysis required to answer your question of interest!"
   ]
  },
  {
   "cell_type": "markdown",
   "metadata": {
    "nbgrader": {
     "grade": false,
     "grade_id": "cell-356535bf8e9de42d",
     "locked": true,
     "schema_version": 3,
     "solution": false
    }
   },
   "source": [
    "**So, you could just plot the relationship between the Pulittzers and daily circulation across the years in this dataset to get a sense of what's going on.**\n",
    "\n",
    "This will help us start to answer: Does winning more Pulitzers result in your readership changing less?"
   ]
  },
  {
   "cell_type": "code",
   "execution_count": 22,
   "metadata": {
    "nbgrader": {
     "grade": false,
     "grade_id": "cell-b4cd1dfc53041ef2",
     "locked": false,
     "schema_version": 3,
     "solution": true
    },
    "scrolled": true
   },
   "outputs": [
    {
     "data": {
      "image/png": "[encoded data removed]",
      "text/plain": [
       "<Figure size 734.4x432 with 1 Axes>"
      ]
     },
     "metadata": {},
     "output_type": "display_data"
    }
   ],
   "source": [
    "# Relationship between the total number of Pulitzers and change in readership (daily circulation)\n",
    "### BEGIN SOLUTION\n",
    "sns.lmplot(x = 'Pulitzer Prize Winners and Finalists, 1990-2014',\n",
    "           y = 'Change in Daily Circulation, 2004-2013',\n",
    "           data = pulitzer, \n",
    "           fit_reg = True, \n",
    "           height = 6,\n",
    "           aspect = 1.7, \n",
    "           line_kws={'color': 'red'},\n",
    "           scatter_kws={'color': 'red'})\n",
    "plt.xlabel('Pulitzer winners and finalists (1990-2014)', size=18)\n",
    "plt.ylabel('Change in print and digital circulation (2004-2013)', size=18)\n",
    "plt.title('');\n",
    "### END SOLUTION"
   ]
  },
  {
   "cell_type": "markdown",
   "metadata": {
    "nbgrader": {
     "grade": false,
     "grade_id": "cell-b0687fae81a96db2",
     "locked": true,
     "schema_version": 3,
     "solution": false
    }
   },
   "source": [
    "What you should see here is that there appears to be some general positive relationship but note that there are outliers in circulation, where circulation is much higher than number of Pulitzers won as well as outliers in Pulitzers won. Overall, most of the data are clustered around zero Pulitzers.  This is because the distributions of both of our variables are skewed right. This suggests that we may need to transform these data to use linear regression to ensure that the large outlier values are not driving our relationship."
   ]
  },
  {
   "cell_type": "markdown",
   "metadata": {
    "nbgrader": {
     "grade": false,
     "grade_id": "cell-5b779c02aef590d1",
     "locked": true,
     "schema_version": 3,
     "solution": false
    }
   },
   "source": [
    "So, as discussed in class: **Apply a log10-transformation the Pulitzer count data, with an offset of 0.1** This will shift the values away from being centered near zero when put on the log scale. Store this in a new column `pulitzer_log10`."
   ]
  },
  {
   "cell_type": "code",
   "execution_count": 23,
   "metadata": {
    "nbgrader": {
     "grade": false,
     "grade_id": "cell-38d6e552b7f618e9",
     "locked": false,
     "schema_version": 3,
     "solution": true
    }
   },
   "outputs": [],
   "source": [
    "# log transform with a 0.1 offset\n",
    "\n",
    "### BEGIN SOLUTION\n",
    "pulitzer['pulitzer_log10'] = np.log10(pulitzer['Pulitzer Prize Winners and Finalists, 1990-2014'] + 0.1)\n",
    "### END SOLUTION"
   ]
  },
  {
   "cell_type": "code",
   "execution_count": 24,
   "metadata": {
    "nbgrader": {
     "grade": false,
     "grade_id": "cell-69d66c93d2c7d07f",
     "locked": false,
     "schema_version": 3,
     "solution": true
    }
   },
   "outputs": [
    {
     "name": "stderr",
     "output_type": "stream",
     "text": [
      "/anaconda3/envs/cogs18/lib/python3.7/site-packages/seaborn/distributions.py:2551: FutureWarning: `distplot` is a deprecated function and will be removed in a future version. Please adapt your code to use either `displot` (a figure-level function with similar flexibility) or `histplot` (an axes-level function for histograms).\n",
      "  warnings.warn(msg, FutureWarning)\n"
     ]
    },
    {
     "data": {
      "image/png": "[encoded data removed]",
      "text/plain": [
       "<Figure size 1224x504 with 1 Axes>"
      ]
     },
     "metadata": {},
     "output_type": "display_data"
    }
   ],
   "source": [
    "# visualize the distribtuion of the log10 column\n",
    "### BEGIN SOLUTION\n",
    "sns.distplot(pulitzer['pulitzer_log10'], \n",
    "             kde=True, bins=30, color=\"dimgrey\")\n",
    "ax1.set_xlabel('1990-2003')\n",
    "ax1.set_ylabel('Number of Pulitzers');\n",
    "### END SOLUTION"
   ]
  },
  {
   "cell_type": "markdown",
   "metadata": {
    "nbgrader": {
     "grade": false,
     "grade_id": "cell-7be895ecb2f24035",
     "locked": true,
     "schema_version": 3,
     "solution": false
    }
   },
   "source": [
    "Well, the distribution should appear less skewed...but what's going on down around -1? Well, this is because there were zeroes in the original dataset (see below). Due to this we used an offset of 0.1 in the log transformation above. These zeroes all show up at -1 as the $log_{10}(0+0.1) = -1$. "
   ]
  },
  {
   "cell_type": "code",
   "execution_count": 25,
   "metadata": {
    "scrolled": false
   },
   "outputs": [
    {
     "data": {
      "text/html": [
       "<div>\n",
       "<style scoped>\n",
       "    .dataframe tbody tr th:only-of-type {\n",
       "        vertical-align: middle;\n",
       "    }\n",
       "\n",
       "    .dataframe tbody tr th {\n",
       "        vertical-align: top;\n",
       "    }\n",
       "\n",
       "    .dataframe thead th {\n",
       "        text-align: right;\n",
       "    }\n",
       "</style>\n",
       "<table border=\"1\" class=\"dataframe\">\n",
       "  <thead>\n",
       "    <tr style=\"text-align: right;\">\n",
       "      <th></th>\n",
       "      <th>Newspaper</th>\n",
       "      <th>Daily Circulation, 2004</th>\n",
       "      <th>Daily Circulation, 2013</th>\n",
       "      <th>Change in Daily Circulation, 2004-2013</th>\n",
       "      <th>Pulitzer Prize Winners and Finalists, 1990-2003</th>\n",
       "      <th>Pulitzer Prize Winners and Finalists, 2004-2014</th>\n",
       "      <th>Pulitzer Prize Winners and Finalists, 1990-2014</th>\n",
       "      <th>pulitzer_log10</th>\n",
       "    </tr>\n",
       "  </thead>\n",
       "  <tbody>\n",
       "    <tr>\n",
       "      <th>6</th>\n",
       "      <td>New York Post</td>\n",
       "      <td>642844.0</td>\n",
       "      <td>500521.0</td>\n",
       "      <td>-22.0</td>\n",
       "      <td>0</td>\n",
       "      <td>0</td>\n",
       "      <td>0</td>\n",
       "      <td>-1.0</td>\n",
       "    </tr>\n",
       "    <tr>\n",
       "      <th>39</th>\n",
       "      <td>San Antonio Express-News</td>\n",
       "      <td>246057.0</td>\n",
       "      <td>139005.0</td>\n",
       "      <td>-44.0</td>\n",
       "      <td>0</td>\n",
       "      <td>0</td>\n",
       "      <td>0</td>\n",
       "      <td>-1.0</td>\n",
       "    </tr>\n",
       "    <tr>\n",
       "      <th>42</th>\n",
       "      <td>Tampa Tribune</td>\n",
       "      <td>238877.0</td>\n",
       "      <td>191477.0</td>\n",
       "      <td>-20.0</td>\n",
       "      <td>0</td>\n",
       "      <td>0</td>\n",
       "      <td>0</td>\n",
       "      <td>-1.0</td>\n",
       "    </tr>\n",
       "    <tr>\n",
       "      <th>44</th>\n",
       "      <td>Boston Herald</td>\n",
       "      <td>236899.0</td>\n",
       "      <td>95929.0</td>\n",
       "      <td>-60.0</td>\n",
       "      <td>0</td>\n",
       "      <td>0</td>\n",
       "      <td>0</td>\n",
       "      <td>-1.0</td>\n",
       "    </tr>\n",
       "    <tr>\n",
       "      <th>47</th>\n",
       "      <td>Daily Oklahoman</td>\n",
       "      <td>223403.0</td>\n",
       "      <td>124667.0</td>\n",
       "      <td>-44.0</td>\n",
       "      <td>0</td>\n",
       "      <td>0</td>\n",
       "      <td>0</td>\n",
       "      <td>-1.0</td>\n",
       "    </tr>\n",
       "  </tbody>\n",
       "</table>\n",
       "</div>"
      ],
      "text/plain": [
       "                   Newspaper  Daily Circulation, 2004  \\\n",
       "6              New York Post                 642844.0   \n",
       "39  San Antonio Express-News                 246057.0   \n",
       "42             Tampa Tribune                 238877.0   \n",
       "44             Boston Herald                 236899.0   \n",
       "47           Daily Oklahoman                 223403.0   \n",
       "\n",
       "    Daily Circulation, 2013  Change in Daily Circulation, 2004-2013  \\\n",
       "6                  500521.0                                   -22.0   \n",
       "39                 139005.0                                   -44.0   \n",
       "42                 191477.0                                   -20.0   \n",
       "44                  95929.0                                   -60.0   \n",
       "47                 124667.0                                   -44.0   \n",
       "\n",
       "    Pulitzer Prize Winners and Finalists, 1990-2003  \\\n",
       "6                                                 0   \n",
       "39                                                0   \n",
       "42                                                0   \n",
       "44                                                0   \n",
       "47                                                0   \n",
       "\n",
       "    Pulitzer Prize Winners and Finalists, 2004-2014  \\\n",
       "6                                                 0   \n",
       "39                                                0   \n",
       "42                                                0   \n",
       "44                                                0   \n",
       "47                                                0   \n",
       "\n",
       "    Pulitzer Prize Winners and Finalists, 1990-2014  pulitzer_log10  \n",
       "6                                                 0            -1.0  \n",
       "39                                                0            -1.0  \n",
       "42                                                0            -1.0  \n",
       "44                                                0            -1.0  \n",
       "47                                                0            -1.0  "
      ]
     },
     "execution_count": 25,
     "metadata": {},
     "output_type": "execute_result"
    }
   ],
   "source": [
    "# this should show you all of the papers with zero pulitzer prizes\n",
    "pulitzer[pulitzer['pulitzer_log10'] < 0]\n"
   ]
  },
  {
   "cell_type": "markdown",
   "metadata": {
    "nbgrader": {
     "grade": false,
     "grade_id": "cell-82cbeff3960414fd",
     "locked": true,
     "schema_version": 3,
     "solution": false
    }
   },
   "source": [
    "Now it's time to do our analysis!\n",
    "\n",
    "First, **plot the relationship between our two variables of interest** - be sure to consider the assumptions of linear regression discussed in class and determine if linear regression is appropriate.\n",
    "\n",
    "Then, if appropriate, **use linear regression to determine the effect of log 10 pulitzer on change in daily circulation and take a look at the results**"
   ]
  },
  {
   "cell_type": "code",
   "execution_count": 26,
   "metadata": {
    "nbgrader": {
     "grade": false,
     "grade_id": "cell-5667dcd8e74452da",
     "locked": false,
     "schema_version": 3,
     "solution": true
    },
    "scrolled": true
   },
   "outputs": [
    {
     "data": {
      "image/png": "[encoded data removed]",
      "text/plain": [
       "<Figure size 734.4x432 with 1 Axes>"
      ]
     },
     "metadata": {},
     "output_type": "display_data"
    }
   ],
   "source": [
    "# plot relationship between the total number of Pulitzers and change readership\n",
    "### BEGIN SOLUTION\n",
    "sns.lmplot(x = 'pulitzer_log10',\n",
    "           y = 'Change in Daily Circulation, 2004-2013',\n",
    "           data = pulitzer, \n",
    "           fit_reg = True, \n",
    "           height = 6,\n",
    "           aspect = 1.7, \n",
    "           line_kws={'color': 'red'},\n",
    "           scatter_kws={'color': 'red'})\n",
    "plt.xlabel('Pulitzer winners and finalists (1990-2014)', size=18)\n",
    "plt.ylabel('Change in print and digital circulation (2004-2013)', size=18)\n",
    "plt.title('');\n",
    "### END SOLUTION\n"
   ]
  },
  {
   "cell_type": "code",
   "execution_count": 27,
   "metadata": {
    "nbgrader": {
     "grade": false,
     "grade_id": "cell-2eb058cc973e15cf",
     "locked": false,
     "schema_version": 3,
     "solution": true
    }
   },
   "outputs": [
    {
     "name": "stdout",
     "output_type": "stream",
     "text": [
      "                            OLS Regression Results                            \n",
      "==============================================================================\n",
      "Dep. Variable:            circulation   R-squared:                       0.087\n",
      "Model:                            OLS   Adj. R-squared:                  0.068\n",
      "Method:                 Least Squares   F-statistic:                     4.408\n",
      "Date:                Fri, 19 Feb 2021   Prob (F-statistic):             0.0413\n",
      "Time:                        17:38:04   Log-Likelihood:                -216.48\n",
      "No. Observations:                  48   AIC:                             437.0\n",
      "Df Residuals:                      46   BIC:                             440.7\n",
      "Df Model:                           1                                         \n",
      "Covariance Type:            nonrobust                                         \n",
      "==================================================================================\n",
      "                     coef    std err          t      P>|t|      [0.025      0.975]\n",
      "----------------------------------------------------------------------------------\n",
      "Intercept        -32.5017      4.403     -7.382      0.000     -41.365     -23.639\n",
      "pulitzer_log10     8.8366      4.209      2.099      0.041       0.364      17.309\n",
      "==============================================================================\n",
      "Omnibus:                       17.634   Durbin-Watson:                   2.042\n",
      "Prob(Omnibus):                  0.000   Jarque-Bera (JB):               23.178\n",
      "Skew:                           1.258   Prob(JB):                     9.27e-06\n",
      "Kurtosis:                       5.293   Cond. No.                         2.28\n",
      "==============================================================================\n",
      "\n",
      "Notes:\n",
      "[1] Standard Errors assume that the covariance matrix of the errors is correctly specified.\n"
     ]
    }
   ],
   "source": [
    "# carry out linear regression\n",
    "### BEGIN SOLUTION\n",
    "df = pulitzer[['Change in Daily Circulation, 2004-2013', \n",
    "                         'pulitzer_log10']]\n",
    "df.columns = ['circulation', 'pulitzer_log10']\n",
    "df.head()\n",
    "\n",
    "outcome, predictors = patsy.dmatrices('circulation ~ pulitzer_log10', df)\n",
    "\n",
    "# Now use statsmodels to intialize an OLS linear model\n",
    "#  This step initializes the model, and provides the data (but does not actually compute the model)\n",
    "mod_log = sm.OLS(outcome, predictors)\n",
    "\n",
    "# fit the model\n",
    "res_log = mod_log.fit()\n",
    "\n",
    "# Check out the results\n",
    "print(res_log.summary())\n",
    "### END SOLUTION"
   ]
  },
  {
   "cell_type": "markdown",
   "metadata": {
    "nbgrader": {
     "grade": false,
     "grade_id": "cell-a38e7fb164fd796f",
     "locked": true,
     "schema_version": 3,
     "solution": false
    }
   },
   "source": [
    "Here, we can't directly interpret our $\\beta_1$ estimate (`coef`) on our original scale above because we log-transformed our data. In order to interpet 8.32 (what your $\\beta_1$ should be), we would say that for every one unit increase in the number of pulitzers a publication has, the viewership increases by `~(coef/100)`, which here would be (8.83/100)...or 0.0883. That effect is pretty small. This is further reflected in the p-value (0.04), which suggests that we would see these results, or something more extreme due to random chance alone approximately 4% of the time."
   ]
  },
  {
   "cell_type": "markdown",
   "metadata": {
    "nbgrader": {
     "grade": false,
     "grade_id": "cell-b11c57eb79bd3204",
     "locked": true,
     "schema_version": 3,
     "solution": false
    }
   },
   "source": [
    "We can therefore conclude that based on the data we have over these two time periods, there is a significant relationship between the number of Pulitzers a publication wins and the papers readership but that effect is quite minimal. We also know that this analysis is likely failing to take into account the effect of confounders we discussed in class, limiting our confidence in this result."
   ]
  },
  {
   "cell_type": "markdown",
   "metadata": {
    "nbgrader": {
     "grade": false,
     "grade_id": "cell-6105f608edfb5d29",
     "locked": true,
     "schema_version": 3,
     "solution": false
    }
   },
   "source": [
    "Note, of course, there are limitations to this analysis. There are other measures of prestige _and_ other measures of readership (electronic-only, for instance), that could help to answer this question. All analyses have limitations. Here, we've just noted a few. Be sure to consider all limitations for your final projects and include them in your Jupyter Notebook reports."
   ]
  }
 ],
 "metadata": {
  "celltoolbar": "Create Assignment",
  "kernelspec": {
   "display_name": "Python 3",
   "language": "python",
   "name": "python3"
  },
  "language_info": {
   "codemirror_mode": {
    "name": "ipython",
    "version": 3
   },
   "file_extension": ".py",
   "mimetype": "text/x-python",
   "name": "python",
   "nbconvert_exporter": "python",
   "pygments_lexer": "ipython3",
   "version": "3.7.9"
  }
 },
 "nbformat": 4,
 "nbformat_minor": 2
}
